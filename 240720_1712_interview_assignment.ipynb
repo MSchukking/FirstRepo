{
  "nbformat": 4,
  "nbformat_minor": 0,
  "metadata": {
    "colab": {
      "provenance": [],
      "authorship_tag": "ABX9TyOEmWVZwU5kMazaPK3skmt7",
      "include_colab_link": true
    },
    "kernelspec": {
      "name": "python3",
      "display_name": "Python 3"
    },
    "language_info": {
      "name": "python"
    }
  },
  "cells": [
    {
      "cell_type": "markdown",
      "metadata": {
        "id": "view-in-github",
        "colab_type": "text"
      },
      "source": [
        "<a href=\"https://colab.research.google.com/github/MSchukking/FirstRepo/blob/main/240720_1712_interview_assignment.ipynb\" target=\"_parent\"><img src=\"https://colab.research.google.com/assets/colab-badge.svg\" alt=\"Open In Colab\"/></a>"
      ]
    },
    {
      "cell_type": "code",
      "execution_count": 1,
      "metadata": {
        "id": "Sg7dq8bzAno2"
      },
      "outputs": [],
      "source": [
        "# import necessary libraries\n",
        "import pandas as pd\n",
        "import numpy as np\n",
        "import matplotlib.pyplot as plt\n",
        "import seaborn as sns\n",
        "from sklearn.model_selection import train_test_split\n",
        "from sklearn.preprocessing import StandardScaler, OneHotEncoder\n",
        "from sklearn.impute import SimpleImputer\n",
        "from sklearn.compose import ColumnTransformer\n",
        "from sklearn.pipeline import Pipeline\n",
        "from sklearn.linear_model import LogisticRegression\n",
        "from sklearn.ensemble import RandomForestClassifier, GradientBoostingClassifier\n",
        "from sklearn.metrics import classification_report, accuracy_score, precision_score, recall_score, f1_score, confusion_matrix\n",
        "import joblib"
      ]
    },
    {
      "cell_type": "code",
      "source": [
        "# Load the dataset: Need to upload the file first to this Jupyter Notebook\n",
        "# environment\n",
        "data = pd.read_csv('/content/dataset_assignment_2.csv')"
      ],
      "metadata": {
        "id": "THC3FTGQ9xV9"
      },
      "execution_count": 4,
      "outputs": []
    },
    {
      "cell_type": "code",
      "source": [
        "# Display the first few rows of the dataset\n",
        "print(data.head())"
      ],
      "metadata": {
        "colab": {
          "base_uri": "https://localhost:8080/"
        },
        "id": "MJiZHBmSCyr5",
        "outputId": "cbaca1d8-de31-4cea-aae4-c09fb9057efc"
      },
      "execution_count": 7,
      "outputs": [
        {
          "output_type": "stream",
          "name": "stdout",
          "text": [
            "   User Activity  Activity_Number         Window_Start           Window_End  \\\n",
            "0     7  walking                9  2024-04-11 09:33:43  2024-04-11 09:33:48   \n",
            "1     7  walking                9  2024-04-11 09:33:44  2024-04-11 09:33:49   \n",
            "2     7  walking                9  2024-04-11 09:33:45  2024-04-11 09:33:50   \n",
            "3     7  walking                9  2024-04-11 09:33:46  2024-04-11 09:33:51   \n",
            "4     7  walking                9  2024-04-11 09:33:47  2024-04-11 09:33:52   \n",
            "\n",
            "     Mean_x    Mean_y    Mean_z     Std_x     Std_y  ...  PSD_ratio_1_y  \\\n",
            "0 -5.119725  8.190490  1.447585  3.506086  3.752261  ...       0.092969   \n",
            "1 -5.179565  8.145401  1.610093  3.574599  3.718254  ...       0.092848   \n",
            "2 -5.145065  8.205241  1.611283  3.585068  3.737471  ...       0.091979   \n",
            "3 -5.230602  8.196438  1.599386  3.596076  3.690269  ...       0.089673   \n",
            "4 -5.341122  8.213688  1.540617  3.597734  3.614020  ...       0.085312   \n",
            "\n",
            "   PSD_ratio_3_y  PSD_ratio_5_y  PSD_ratio_10_y  PSD_ratio_1_z  PSD_ratio_3_z  \\\n",
            "0       0.007392       0.003856        0.000978       0.464697       0.346776   \n",
            "1       0.007207       0.004354        0.001004       0.412603       0.306812   \n",
            "2       0.007187       0.005091        0.001211       0.421601       0.311315   \n",
            "3       0.006465       0.005315        0.001351       0.430681       0.306151   \n",
            "4       0.006653       0.004794        0.001312       0.440095       0.302775   \n",
            "\n",
            "   PSD_ratio_5_z  PSD_ratio_10_z  Heart_Rate  Breath_Rate  \n",
            "0       0.271388        0.175003       101.0          NaN  \n",
            "1       0.238379        0.157339       165.0         48.0  \n",
            "2       0.238967        0.156611       141.0          NaN  \n",
            "3       0.225614        0.142190       126.0         35.0  \n",
            "4       0.221377        0.135029        77.0          NaN  \n",
            "\n",
            "[5 rows x 45 columns]\n"
          ]
        }
      ]
    },
    {
      "cell_type": "code",
      "source": [
        "# 'Activity' with 'Activity_number' are the target variables:\n",
        "X = data.drop(columns=['Activity', 'Activity_Number'])\n",
        "y = data['Activity']"
      ],
      "metadata": {
        "id": "kjeHPhUIEJEG"
      },
      "execution_count": 8,
      "outputs": []
    },
    {
      "cell_type": "code",
      "source": [
        "# Split the data into training and testing sets\n",
        "X_train, X_test, y_train, y_test = train_test_split(X, y, test_size=0.2, random_state=42, stratify=y)"
      ],
      "metadata": {
        "id": "LBoJbUXaFRC1"
      },
      "execution_count": 9,
      "outputs": []
    },
    {
      "cell_type": "code",
      "source": [
        "# Identify categorical and numerical columns\n",
        "categorical_cols = X.select_dtypes(include=['object', 'category']).columns.tolist()\n",
        "numerical_cols = X.select_dtypes(include=['number']).columns.tolist()"
      ],
      "metadata": {
        "id": "FBMEK7bBFmWk"
      },
      "execution_count": 10,
      "outputs": []
    },
    {
      "cell_type": "code",
      "source": [
        "# Preprocessing pipeline for numerical data:\n",
        "# 1. SimpleImputer(): Here it replaces missing values with the mean\n",
        "# 2. StandardScaler(): Performs z-score normalization / feature scaling so\n",
        "# that each feature contributes equally to the model's performance.\n",
        "# it:\n",
        "# A. Centers the data by substracting the mean of the feature from each data point\n",
        "# B. Scaling to Unit Variance by dividing each feature by its standard deviation\n",
        "numerical_transformer = Pipeline(steps=[\n",
        "    ('imputer', SimpleImputer(strategy='mean'))\n",
        "    ,('scaler', StandardScaler())])"
      ],
      "metadata": {
        "id": "xuIp_TMgGQ3M"
      },
      "execution_count": 11,
      "outputs": []
    },
    {
      "cell_type": "code",
      "source": [
        "# Preprocessing pipeline for categorical data:\n",
        "# 1. SimpleImputer(): Here it replaces missing values with the most frequent value\n",
        "# 2. OneHotEncoder() transforms string labels into binary so that the\n",
        "# machine learning algorithm can deal with categorical data.\n",
        "# * handle_unknown = 'ignore' ensures that unknown categories in the test are\n",
        "# ignored instead of causing an error\n",
        "categorical_transformer = Pipeline(steps=[\n",
        "    ('imputer', SimpleImputer(strategy='most_frequent'))\n",
        "    ,('onehot', OneHotEncoder(handle_unknown='ignore'))])"
      ],
      "metadata": {
        "id": "fmIazkstGjMg"
      },
      "execution_count": 12,
      "outputs": []
    },
    {
      "cell_type": "code",
      "source": [
        "# Combine preprocessing pipelines\n",
        "preprocessor = ColumnTransformer(\n",
        "    transformers=[\n",
        "        ('num', numerical_transformer, numerical_cols)\n",
        "        ,('cat', categorical_transformer, categorical_cols)\n",
        "])"
      ],
      "metadata": {
        "id": "ZFNdIb4HHCTQ"
      },
      "execution_count": 13,
      "outputs": []
    },
    {
      "cell_type": "code",
      "source": [
        "# Create the full pipeline with a RandomForestClassifier\n",
        "model = Pipeline(steps = [\n",
        "    ('preprocessor', preprocessor)\n",
        "    ,('classifier', RandomForestClassifier(random_state=42))\n",
        "])"
      ],
      "metadata": {
        "id": "BNZvXRzTH930"
      },
      "execution_count": 14,
      "outputs": []
    },
    {
      "cell_type": "code",
      "source": [
        "# Train the model\n",
        "model.fit(X_train, y_train)"
      ],
      "metadata": {
        "colab": {
          "base_uri": "https://localhost:8080/",
          "height": 227
        },
        "id": "dBqWfJ0MIZQt",
        "outputId": "cbcf9e10-e6cf-4074-cf38-31e7f7cb256e"
      },
      "execution_count": 15,
      "outputs": [
        {
          "output_type": "execute_result",
          "data": {
            "text/plain": [
              "Pipeline(steps=[('preprocessor',\n",
              "                 ColumnTransformer(transformers=[('num',\n",
              "                                                  Pipeline(steps=[('imputer',\n",
              "                                                                   SimpleImputer()),\n",
              "                                                                  ('scaler',\n",
              "                                                                   StandardScaler())]),\n",
              "                                                  ['User', 'Mean_x', 'Mean_y',\n",
              "                                                   'Mean_z', 'Std_x', 'Std_y',\n",
              "                                                   'Std_z', 'Skewness_x',\n",
              "                                                   'Skewness_y', 'Skewness_z',\n",
              "                                                   'Kurtosis_x', 'Kurtosis_y',\n",
              "                                                   'Kurtosis_z', 'Magnitude',\n",
              "                                                   'Energy', 'Entropy_x',\n",
              "                                                   'Entropy_y', 'Entropy_z',\n",
              "                                                   'Zero_Cross...\n",
              "                                                   'Max_FFT_freq_x',\n",
              "                                                   'Max_FFT_freq_y',\n",
              "                                                   'Max_FFT_freq_z',\n",
              "                                                   'PSD_sum_x', 'PSD_sum_y',\n",
              "                                                   'PSD_sum_z', 'PSD_ratio_1_x',\n",
              "                                                   'PSD_ratio_3_x',\n",
              "                                                   'PSD_ratio_5_x', ...]),\n",
              "                                                 ('cat',\n",
              "                                                  Pipeline(steps=[('imputer',\n",
              "                                                                   SimpleImputer(strategy='most_frequent')),\n",
              "                                                                  ('onehot',\n",
              "                                                                   OneHotEncoder(handle_unknown='ignore'))]),\n",
              "                                                  ['Window_Start',\n",
              "                                                   'Window_End'])])),\n",
              "                ('classifier', RandomForestClassifier(random_state=42))])"
            ],
            "text/html": [
              "<style>#sk-container-id-1 {color: black;background-color: white;}#sk-container-id-1 pre{padding: 0;}#sk-container-id-1 div.sk-toggleable {background-color: white;}#sk-container-id-1 label.sk-toggleable__label {cursor: pointer;display: block;width: 100%;margin-bottom: 0;padding: 0.3em;box-sizing: border-box;text-align: center;}#sk-container-id-1 label.sk-toggleable__label-arrow:before {content: \"▸\";float: left;margin-right: 0.25em;color: #696969;}#sk-container-id-1 label.sk-toggleable__label-arrow:hover:before {color: black;}#sk-container-id-1 div.sk-estimator:hover label.sk-toggleable__label-arrow:before {color: black;}#sk-container-id-1 div.sk-toggleable__content {max-height: 0;max-width: 0;overflow: hidden;text-align: left;background-color: #f0f8ff;}#sk-container-id-1 div.sk-toggleable__content pre {margin: 0.2em;color: black;border-radius: 0.25em;background-color: #f0f8ff;}#sk-container-id-1 input.sk-toggleable__control:checked~div.sk-toggleable__content {max-height: 200px;max-width: 100%;overflow: auto;}#sk-container-id-1 input.sk-toggleable__control:checked~label.sk-toggleable__label-arrow:before {content: \"▾\";}#sk-container-id-1 div.sk-estimator input.sk-toggleable__control:checked~label.sk-toggleable__label {background-color: #d4ebff;}#sk-container-id-1 div.sk-label input.sk-toggleable__control:checked~label.sk-toggleable__label {background-color: #d4ebff;}#sk-container-id-1 input.sk-hidden--visually {border: 0;clip: rect(1px 1px 1px 1px);clip: rect(1px, 1px, 1px, 1px);height: 1px;margin: -1px;overflow: hidden;padding: 0;position: absolute;width: 1px;}#sk-container-id-1 div.sk-estimator {font-family: monospace;background-color: #f0f8ff;border: 1px dotted black;border-radius: 0.25em;box-sizing: border-box;margin-bottom: 0.5em;}#sk-container-id-1 div.sk-estimator:hover {background-color: #d4ebff;}#sk-container-id-1 div.sk-parallel-item::after {content: \"\";width: 100%;border-bottom: 1px solid gray;flex-grow: 1;}#sk-container-id-1 div.sk-label:hover label.sk-toggleable__label {background-color: #d4ebff;}#sk-container-id-1 div.sk-serial::before {content: \"\";position: absolute;border-left: 1px solid gray;box-sizing: border-box;top: 0;bottom: 0;left: 50%;z-index: 0;}#sk-container-id-1 div.sk-serial {display: flex;flex-direction: column;align-items: center;background-color: white;padding-right: 0.2em;padding-left: 0.2em;position: relative;}#sk-container-id-1 div.sk-item {position: relative;z-index: 1;}#sk-container-id-1 div.sk-parallel {display: flex;align-items: stretch;justify-content: center;background-color: white;position: relative;}#sk-container-id-1 div.sk-item::before, #sk-container-id-1 div.sk-parallel-item::before {content: \"\";position: absolute;border-left: 1px solid gray;box-sizing: border-box;top: 0;bottom: 0;left: 50%;z-index: -1;}#sk-container-id-1 div.sk-parallel-item {display: flex;flex-direction: column;z-index: 1;position: relative;background-color: white;}#sk-container-id-1 div.sk-parallel-item:first-child::after {align-self: flex-end;width: 50%;}#sk-container-id-1 div.sk-parallel-item:last-child::after {align-self: flex-start;width: 50%;}#sk-container-id-1 div.sk-parallel-item:only-child::after {width: 0;}#sk-container-id-1 div.sk-dashed-wrapped {border: 1px dashed gray;margin: 0 0.4em 0.5em 0.4em;box-sizing: border-box;padding-bottom: 0.4em;background-color: white;}#sk-container-id-1 div.sk-label label {font-family: monospace;font-weight: bold;display: inline-block;line-height: 1.2em;}#sk-container-id-1 div.sk-label-container {text-align: center;}#sk-container-id-1 div.sk-container {/* jupyter's `normalize.less` sets `[hidden] { display: none; }` but bootstrap.min.css set `[hidden] { display: none !important; }` so we also need the `!important` here to be able to override the default hidden behavior on the sphinx rendered scikit-learn.org. See: https://github.com/scikit-learn/scikit-learn/issues/21755 */display: inline-block !important;position: relative;}#sk-container-id-1 div.sk-text-repr-fallback {display: none;}</style><div id=\"sk-container-id-1\" class=\"sk-top-container\"><div class=\"sk-text-repr-fallback\"><pre>Pipeline(steps=[(&#x27;preprocessor&#x27;,\n",
              "                 ColumnTransformer(transformers=[(&#x27;num&#x27;,\n",
              "                                                  Pipeline(steps=[(&#x27;imputer&#x27;,\n",
              "                                                                   SimpleImputer()),\n",
              "                                                                  (&#x27;scaler&#x27;,\n",
              "                                                                   StandardScaler())]),\n",
              "                                                  [&#x27;User&#x27;, &#x27;Mean_x&#x27;, &#x27;Mean_y&#x27;,\n",
              "                                                   &#x27;Mean_z&#x27;, &#x27;Std_x&#x27;, &#x27;Std_y&#x27;,\n",
              "                                                   &#x27;Std_z&#x27;, &#x27;Skewness_x&#x27;,\n",
              "                                                   &#x27;Skewness_y&#x27;, &#x27;Skewness_z&#x27;,\n",
              "                                                   &#x27;Kurtosis_x&#x27;, &#x27;Kurtosis_y&#x27;,\n",
              "                                                   &#x27;Kurtosis_z&#x27;, &#x27;Magnitude&#x27;,\n",
              "                                                   &#x27;Energy&#x27;, &#x27;Entropy_x&#x27;,\n",
              "                                                   &#x27;Entropy_y&#x27;, &#x27;Entropy_z&#x27;,\n",
              "                                                   &#x27;Zero_Cross...\n",
              "                                                   &#x27;Max_FFT_freq_x&#x27;,\n",
              "                                                   &#x27;Max_FFT_freq_y&#x27;,\n",
              "                                                   &#x27;Max_FFT_freq_z&#x27;,\n",
              "                                                   &#x27;PSD_sum_x&#x27;, &#x27;PSD_sum_y&#x27;,\n",
              "                                                   &#x27;PSD_sum_z&#x27;, &#x27;PSD_ratio_1_x&#x27;,\n",
              "                                                   &#x27;PSD_ratio_3_x&#x27;,\n",
              "                                                   &#x27;PSD_ratio_5_x&#x27;, ...]),\n",
              "                                                 (&#x27;cat&#x27;,\n",
              "                                                  Pipeline(steps=[(&#x27;imputer&#x27;,\n",
              "                                                                   SimpleImputer(strategy=&#x27;most_frequent&#x27;)),\n",
              "                                                                  (&#x27;onehot&#x27;,\n",
              "                                                                   OneHotEncoder(handle_unknown=&#x27;ignore&#x27;))]),\n",
              "                                                  [&#x27;Window_Start&#x27;,\n",
              "                                                   &#x27;Window_End&#x27;])])),\n",
              "                (&#x27;classifier&#x27;, RandomForestClassifier(random_state=42))])</pre><b>In a Jupyter environment, please rerun this cell to show the HTML representation or trust the notebook. <br />On GitHub, the HTML representation is unable to render, please try loading this page with nbviewer.org.</b></div><div class=\"sk-container\" hidden><div class=\"sk-item sk-dashed-wrapped\"><div class=\"sk-label-container\"><div class=\"sk-label sk-toggleable\"><input class=\"sk-toggleable__control sk-hidden--visually\" id=\"sk-estimator-id-1\" type=\"checkbox\" ><label for=\"sk-estimator-id-1\" class=\"sk-toggleable__label sk-toggleable__label-arrow\">Pipeline</label><div class=\"sk-toggleable__content\"><pre>Pipeline(steps=[(&#x27;preprocessor&#x27;,\n",
              "                 ColumnTransformer(transformers=[(&#x27;num&#x27;,\n",
              "                                                  Pipeline(steps=[(&#x27;imputer&#x27;,\n",
              "                                                                   SimpleImputer()),\n",
              "                                                                  (&#x27;scaler&#x27;,\n",
              "                                                                   StandardScaler())]),\n",
              "                                                  [&#x27;User&#x27;, &#x27;Mean_x&#x27;, &#x27;Mean_y&#x27;,\n",
              "                                                   &#x27;Mean_z&#x27;, &#x27;Std_x&#x27;, &#x27;Std_y&#x27;,\n",
              "                                                   &#x27;Std_z&#x27;, &#x27;Skewness_x&#x27;,\n",
              "                                                   &#x27;Skewness_y&#x27;, &#x27;Skewness_z&#x27;,\n",
              "                                                   &#x27;Kurtosis_x&#x27;, &#x27;Kurtosis_y&#x27;,\n",
              "                                                   &#x27;Kurtosis_z&#x27;, &#x27;Magnitude&#x27;,\n",
              "                                                   &#x27;Energy&#x27;, &#x27;Entropy_x&#x27;,\n",
              "                                                   &#x27;Entropy_y&#x27;, &#x27;Entropy_z&#x27;,\n",
              "                                                   &#x27;Zero_Cross...\n",
              "                                                   &#x27;Max_FFT_freq_x&#x27;,\n",
              "                                                   &#x27;Max_FFT_freq_y&#x27;,\n",
              "                                                   &#x27;Max_FFT_freq_z&#x27;,\n",
              "                                                   &#x27;PSD_sum_x&#x27;, &#x27;PSD_sum_y&#x27;,\n",
              "                                                   &#x27;PSD_sum_z&#x27;, &#x27;PSD_ratio_1_x&#x27;,\n",
              "                                                   &#x27;PSD_ratio_3_x&#x27;,\n",
              "                                                   &#x27;PSD_ratio_5_x&#x27;, ...]),\n",
              "                                                 (&#x27;cat&#x27;,\n",
              "                                                  Pipeline(steps=[(&#x27;imputer&#x27;,\n",
              "                                                                   SimpleImputer(strategy=&#x27;most_frequent&#x27;)),\n",
              "                                                                  (&#x27;onehot&#x27;,\n",
              "                                                                   OneHotEncoder(handle_unknown=&#x27;ignore&#x27;))]),\n",
              "                                                  [&#x27;Window_Start&#x27;,\n",
              "                                                   &#x27;Window_End&#x27;])])),\n",
              "                (&#x27;classifier&#x27;, RandomForestClassifier(random_state=42))])</pre></div></div></div><div class=\"sk-serial\"><div class=\"sk-item sk-dashed-wrapped\"><div class=\"sk-label-container\"><div class=\"sk-label sk-toggleable\"><input class=\"sk-toggleable__control sk-hidden--visually\" id=\"sk-estimator-id-2\" type=\"checkbox\" ><label for=\"sk-estimator-id-2\" class=\"sk-toggleable__label sk-toggleable__label-arrow\">preprocessor: ColumnTransformer</label><div class=\"sk-toggleable__content\"><pre>ColumnTransformer(transformers=[(&#x27;num&#x27;,\n",
              "                                 Pipeline(steps=[(&#x27;imputer&#x27;, SimpleImputer()),\n",
              "                                                 (&#x27;scaler&#x27;, StandardScaler())]),\n",
              "                                 [&#x27;User&#x27;, &#x27;Mean_x&#x27;, &#x27;Mean_y&#x27;, &#x27;Mean_z&#x27;, &#x27;Std_x&#x27;,\n",
              "                                  &#x27;Std_y&#x27;, &#x27;Std_z&#x27;, &#x27;Skewness_x&#x27;, &#x27;Skewness_y&#x27;,\n",
              "                                  &#x27;Skewness_z&#x27;, &#x27;Kurtosis_x&#x27;, &#x27;Kurtosis_y&#x27;,\n",
              "                                  &#x27;Kurtosis_z&#x27;, &#x27;Magnitude&#x27;, &#x27;Energy&#x27;,\n",
              "                                  &#x27;Entropy_x&#x27;, &#x27;Entropy_y&#x27;, &#x27;Entropy_z&#x27;,\n",
              "                                  &#x27;Zero_Crossing_Rate_x&#x27;,\n",
              "                                  &#x27;Zero_Crossing_Rate_y&#x27;,\n",
              "                                  &#x27;Zero_Crossing_Rate_z&#x27;, &#x27;Max_FFT_freq_x&#x27;,\n",
              "                                  &#x27;Max_FFT_freq_y&#x27;, &#x27;Max_FFT_freq_z&#x27;,\n",
              "                                  &#x27;PSD_sum_x&#x27;, &#x27;PSD_sum_y&#x27;, &#x27;PSD_sum_z&#x27;,\n",
              "                                  &#x27;PSD_ratio_1_x&#x27;, &#x27;PSD_ratio_3_x&#x27;,\n",
              "                                  &#x27;PSD_ratio_5_x&#x27;, ...]),\n",
              "                                (&#x27;cat&#x27;,\n",
              "                                 Pipeline(steps=[(&#x27;imputer&#x27;,\n",
              "                                                  SimpleImputer(strategy=&#x27;most_frequent&#x27;)),\n",
              "                                                 (&#x27;onehot&#x27;,\n",
              "                                                  OneHotEncoder(handle_unknown=&#x27;ignore&#x27;))]),\n",
              "                                 [&#x27;Window_Start&#x27;, &#x27;Window_End&#x27;])])</pre></div></div></div><div class=\"sk-parallel\"><div class=\"sk-parallel-item\"><div class=\"sk-item\"><div class=\"sk-label-container\"><div class=\"sk-label sk-toggleable\"><input class=\"sk-toggleable__control sk-hidden--visually\" id=\"sk-estimator-id-3\" type=\"checkbox\" ><label for=\"sk-estimator-id-3\" class=\"sk-toggleable__label sk-toggleable__label-arrow\">num</label><div class=\"sk-toggleable__content\"><pre>[&#x27;User&#x27;, &#x27;Mean_x&#x27;, &#x27;Mean_y&#x27;, &#x27;Mean_z&#x27;, &#x27;Std_x&#x27;, &#x27;Std_y&#x27;, &#x27;Std_z&#x27;, &#x27;Skewness_x&#x27;, &#x27;Skewness_y&#x27;, &#x27;Skewness_z&#x27;, &#x27;Kurtosis_x&#x27;, &#x27;Kurtosis_y&#x27;, &#x27;Kurtosis_z&#x27;, &#x27;Magnitude&#x27;, &#x27;Energy&#x27;, &#x27;Entropy_x&#x27;, &#x27;Entropy_y&#x27;, &#x27;Entropy_z&#x27;, &#x27;Zero_Crossing_Rate_x&#x27;, &#x27;Zero_Crossing_Rate_y&#x27;, &#x27;Zero_Crossing_Rate_z&#x27;, &#x27;Max_FFT_freq_x&#x27;, &#x27;Max_FFT_freq_y&#x27;, &#x27;Max_FFT_freq_z&#x27;, &#x27;PSD_sum_x&#x27;, &#x27;PSD_sum_y&#x27;, &#x27;PSD_sum_z&#x27;, &#x27;PSD_ratio_1_x&#x27;, &#x27;PSD_ratio_3_x&#x27;, &#x27;PSD_ratio_5_x&#x27;, &#x27;PSD_ratio_10_x&#x27;, &#x27;PSD_ratio_1_y&#x27;, &#x27;PSD_ratio_3_y&#x27;, &#x27;PSD_ratio_5_y&#x27;, &#x27;PSD_ratio_10_y&#x27;, &#x27;PSD_ratio_1_z&#x27;, &#x27;PSD_ratio_3_z&#x27;, &#x27;PSD_ratio_5_z&#x27;, &#x27;PSD_ratio_10_z&#x27;, &#x27;Heart_Rate&#x27;, &#x27;Breath_Rate&#x27;]</pre></div></div></div><div class=\"sk-serial\"><div class=\"sk-item\"><div class=\"sk-serial\"><div class=\"sk-item\"><div class=\"sk-estimator sk-toggleable\"><input class=\"sk-toggleable__control sk-hidden--visually\" id=\"sk-estimator-id-4\" type=\"checkbox\" ><label for=\"sk-estimator-id-4\" class=\"sk-toggleable__label sk-toggleable__label-arrow\">SimpleImputer</label><div class=\"sk-toggleable__content\"><pre>SimpleImputer()</pre></div></div></div><div class=\"sk-item\"><div class=\"sk-estimator sk-toggleable\"><input class=\"sk-toggleable__control sk-hidden--visually\" id=\"sk-estimator-id-5\" type=\"checkbox\" ><label for=\"sk-estimator-id-5\" class=\"sk-toggleable__label sk-toggleable__label-arrow\">StandardScaler</label><div class=\"sk-toggleable__content\"><pre>StandardScaler()</pre></div></div></div></div></div></div></div></div><div class=\"sk-parallel-item\"><div class=\"sk-item\"><div class=\"sk-label-container\"><div class=\"sk-label sk-toggleable\"><input class=\"sk-toggleable__control sk-hidden--visually\" id=\"sk-estimator-id-6\" type=\"checkbox\" ><label for=\"sk-estimator-id-6\" class=\"sk-toggleable__label sk-toggleable__label-arrow\">cat</label><div class=\"sk-toggleable__content\"><pre>[&#x27;Window_Start&#x27;, &#x27;Window_End&#x27;]</pre></div></div></div><div class=\"sk-serial\"><div class=\"sk-item\"><div class=\"sk-serial\"><div class=\"sk-item\"><div class=\"sk-estimator sk-toggleable\"><input class=\"sk-toggleable__control sk-hidden--visually\" id=\"sk-estimator-id-7\" type=\"checkbox\" ><label for=\"sk-estimator-id-7\" class=\"sk-toggleable__label sk-toggleable__label-arrow\">SimpleImputer</label><div class=\"sk-toggleable__content\"><pre>SimpleImputer(strategy=&#x27;most_frequent&#x27;)</pre></div></div></div><div class=\"sk-item\"><div class=\"sk-estimator sk-toggleable\"><input class=\"sk-toggleable__control sk-hidden--visually\" id=\"sk-estimator-id-8\" type=\"checkbox\" ><label for=\"sk-estimator-id-8\" class=\"sk-toggleable__label sk-toggleable__label-arrow\">OneHotEncoder</label><div class=\"sk-toggleable__content\"><pre>OneHotEncoder(handle_unknown=&#x27;ignore&#x27;)</pre></div></div></div></div></div></div></div></div></div></div><div class=\"sk-item\"><div class=\"sk-estimator sk-toggleable\"><input class=\"sk-toggleable__control sk-hidden--visually\" id=\"sk-estimator-id-9\" type=\"checkbox\" ><label for=\"sk-estimator-id-9\" class=\"sk-toggleable__label sk-toggleable__label-arrow\">RandomForestClassifier</label><div class=\"sk-toggleable__content\"><pre>RandomForestClassifier(random_state=42)</pre></div></div></div></div></div></div></div>"
            ]
          },
          "metadata": {},
          "execution_count": 15
        }
      ]
    },
    {
      "cell_type": "code",
      "source": [
        "# Predict on the test set\n",
        "y_pred = model.predict(X_test)"
      ],
      "metadata": {
        "id": "p7J4EUpSNweC"
      },
      "execution_count": 16,
      "outputs": []
    },
    {
      "cell_type": "code",
      "source": [
        "# Evaluate the model\n",
        "print(\"Accuracy:\", accuracy_score(y_test, y_pred))\n",
        "print(classification_report(y_test, y_pred))"
      ],
      "metadata": {
        "colab": {
          "base_uri": "https://localhost:8080/"
        },
        "id": "-__8MQ9QN3Fp",
        "outputId": "25b7ada5-1806-460d-d058-8882b756aa31"
      },
      "execution_count": 17,
      "outputs": [
        {
          "output_type": "stream",
          "name": "stdout",
          "text": [
            "Accuracy: 0.9793333333333333\n",
            "              precision    recall  f1-score   support\n",
            "\n",
            "     cycling       0.99      0.94      0.97       679\n",
            "     running       1.00      0.98      0.99       553\n",
            "     sitting       0.97      1.00      0.98       843\n",
            "     walking       0.97      0.99      0.98       925\n",
            "\n",
            "    accuracy                           0.98      3000\n",
            "   macro avg       0.98      0.98      0.98      3000\n",
            "weighted avg       0.98      0.98      0.98      3000\n",
            "\n"
          ]
        }
      ]
    },
    {
      "cell_type": "code",
      "source": [
        "# ------------------------------------------------------------------------------\n",
        "# Below here is for further model improvement\n",
        "# - Analyzing the samples that were misclassified\n",
        "# - And investigating the feature values that might have contributed to the misclassification\n",
        "# ------------------------------------------------------------------------------\n",
        "# Step 1. Identify wrongly predicted samples: Compare the predicted samples (y_pred)\n",
        "# with the true labels (y_test) to identify the misclassified samples\n",
        "\n",
        "# Create a boolean mask for wrongly predicted samples\n",
        "wrong_predictions = y_pred != y_test\n",
        "print(wrong_predictions.head())"
      ],
      "metadata": {
        "colab": {
          "base_uri": "https://localhost:8080/"
        },
        "id": "AkCj5oz6bp_T",
        "outputId": "c6c76eab-d5bf-4953-c38a-cec51bed5840"
      },
      "execution_count": 19,
      "outputs": [
        {
          "output_type": "stream",
          "name": "stdout",
          "text": [
            "4026     False\n",
            "10193    False\n",
            "13658    False\n",
            "756      False\n",
            "7126     False\n",
            "Name: Activity, dtype: bool\n"
          ]
        }
      ]
    },
    {
      "cell_type": "code",
      "source": [
        "# Step 2. Extract wrongly predicted samples and their feature values\n",
        "# Use the boolean mask to filter out the misclassified samples and their\n",
        "# corresponding feature values\n",
        "\n",
        "# Extract the indices of wrongly predicted samples\n",
        "wrong_indices = np.where(wrong_predictions)[0]\n",
        "\n",
        "# Get the wrongly predicted samples and their true values\n",
        "wrong_samples = X_test.iloc[wrong_indices]\n",
        "wrong_true_labels = y_test.iloc[wrong_indices]\n",
        "wrong_predicted_lables = y_pred[wrong_indices]"
      ],
      "metadata": {
        "id": "_RbjeFyRc9g-"
      },
      "execution_count": 29,
      "outputs": []
    },
    {
      "cell_type": "code",
      "source": [
        "# Step 3. Combine and display the results\n",
        "# Combine the wrongly predicted samples, their true lables and predicted labels\n",
        "# into a single DataFrame for better visualization\n",
        "\n",
        "# Create a DataFrame and display the results\n",
        "wrong_predictions_df = wrong_samples.copy()\n",
        "wrong_predictions_df['True Label'] = wrong_true_labels.values\n",
        "wrong_predictions_df['Predicted Label'] = wrong_predicted_lables\n",
        "print(wrong_predictions_df)"
      ],
      "metadata": {
        "colab": {
          "base_uri": "https://localhost:8080/"
        },
        "id": "Ky0V8h0Ueg3U",
        "outputId": "feac5877-55a0-487c-94a3-ea6b151de118"
      },
      "execution_count": 32,
      "outputs": [
        {
          "output_type": "stream",
          "name": "stdout",
          "text": [
            "       User         Window_Start           Window_End    Mean_x    Mean_y  \\\n",
            "10012    28  2024-04-27 23:02:11  2024-04-27 23:02:16 -6.969179  4.231164   \n",
            "12239    11  2024-04-25 18:03:23  2024-04-25 18:03:28 -3.915546  9.231923   \n",
            "3832     16  2024-04-20 09:48:32  2024-04-20 09:48:37 -4.206657  7.803729   \n",
            "4992     12  2024-04-18 09:47:02  2024-04-18 09:47:07  7.173682 -1.424267   \n",
            "9982     28  2024-04-27 23:01:41  2024-04-27 23:01:46 -8.937956 -0.973503   \n",
            "...     ...                  ...                  ...       ...       ...   \n",
            "12121    11  2024-04-25 18:01:25  2024-04-25 18:01:30 -3.605757  9.200278   \n",
            "12283    11  2024-04-25 18:04:07  2024-04-25 18:04:12 -9.764655 -0.201172   \n",
            "12146    11  2024-04-25 18:01:50  2024-04-25 18:01:55 -6.922544 -3.679635   \n",
            "10005    28  2024-04-27 23:02:04  2024-04-27 23:02:09 -7.500127  4.167517   \n",
            "12160    11  2024-04-25 18:02:04  2024-04-25 18:02:09 -7.195810 -3.514153   \n",
            "\n",
            "         Mean_z     Std_x     Std_y     Std_z  Skewness_x  ...  PSD_ratio_5_y  \\\n",
            "10012 -1.939631  3.874660  4.611639  4.229294   -0.919580  ...       0.007035   \n",
            "12239  0.915567  1.046030  3.224779  0.715942   -0.487373  ...       0.003205   \n",
            "3832  -4.263642  0.495968  0.370727  0.340531   -3.802613  ...       0.000334   \n",
            "4992   6.493551  0.330976  0.390785  0.223511   -2.063862  ...       0.000769   \n",
            "9982  -3.983476  0.139151  0.085940  0.184574   -0.356658  ...       0.001389   \n",
            "...         ...       ...       ...       ...         ...  ...            ...   \n",
            "12121  1.178007  0.947795  2.577946  0.855853   -0.488692  ...       0.001120   \n",
            "12283  1.033224  0.245001  0.166498  0.525972    1.410108  ...       0.016329   \n",
            "12146 -5.926318  0.093971  0.057060  0.110206   -2.145011  ...       0.000020   \n",
            "10005 -0.504418  2.062890  4.350660  1.962452    0.094090  ...       0.005631   \n",
            "12160 -5.601897  0.697755  0.844325  0.873991    0.187674  ...       0.000542   \n",
            "\n",
            "       PSD_ratio_10_y  PSD_ratio_1_z  PSD_ratio_3_z  PSD_ratio_5_z  \\\n",
            "10012        0.001246       0.355767       0.068775       0.026388   \n",
            "12239        0.000404       0.156619       0.038956       0.023467   \n",
            "3832         0.000048       0.001925       0.001540       0.000388   \n",
            "4992         0.000272       0.000095       0.000071       0.000049   \n",
            "9982         0.000466       0.000440       0.000335       0.000290   \n",
            "...               ...            ...            ...            ...   \n",
            "12121        0.000249       0.104579       0.034834       0.021001   \n",
            "12283        0.005004       0.013924       0.006498       0.004789   \n",
            "12146        0.000004       0.000081       0.000064       0.000052   \n",
            "10005        0.001238       0.386780       0.292270       0.234358   \n",
            "12160        0.000075       0.006668       0.000520       0.000316   \n",
            "\n",
            "       PSD_ratio_10_z  Heart_Rate  Breath_Rate  True Label  Predicted Label  \n",
            "10012        0.004026       162.0          NaN     running          walking  \n",
            "12239        0.003507       169.0          NaN     cycling          walking  \n",
            "3832         0.000044       151.0          NaN     running          sitting  \n",
            "4992         0.000016        98.0          NaN     walking          sitting  \n",
            "9982         0.000101        94.0          NaN     running          sitting  \n",
            "...               ...         ...          ...         ...              ...  \n",
            "12121        0.003405       110.0          NaN     cycling          walking  \n",
            "12283        0.001828       106.0         28.0     cycling          sitting  \n",
            "12146        0.000016        63.0         13.0     cycling          sitting  \n",
            "10005        0.016570       155.0          NaN     running          walking  \n",
            "12160        0.000056       101.0         26.0     cycling          sitting  \n",
            "\n",
            "[62 rows x 45 columns]\n"
          ]
        }
      ]
    },
    {
      "cell_type": "code",
      "source": [
        "# The model performed worst for cycling:\n",
        "# Get a DataFrame with only True Label = cycling:\n",
        "cycling_wrong_predictions = wrong_predictions_df[wrong_predictions_df['True Label'] == 'cycling']\n",
        "\n",
        "# RESEARCH QUESTION: As what activity is cycling wrongly predicted?\n",
        "predicted_label_counts = cycling_wrong_predictions['Predicted Label'].value_counts()\n",
        "print(predicted_label_counts)\n",
        "\n",
        "# RESEARCH QUESTION: For how many users did these wrong predicted cycle activity occur?\n",
        "sorted_cycling_wrong_predictions = cycling_wrong_predictions.sort_values(by=['User'])\n",
        "user_ids_with_wrong_predictions = sorted_cycling_wrong_predictions['User'].unique()\n",
        "print(user_ids_with_wrong_predictions)"
      ],
      "metadata": {
        "colab": {
          "base_uri": "https://localhost:8080/"
        },
        "id": "IGiRCFOPgIn5",
        "outputId": "b114cbee-a31e-44c2-96d5-14f51d249b0c"
      },
      "execution_count": 59,
      "outputs": [
        {
          "output_type": "stream",
          "name": "stdout",
          "text": [
            "Predicted Label\n",
            "walking    23\n",
            "sitting    15\n",
            "running     1\n",
            "Name: count, dtype: int64\n",
            "[ 2 10 11 13]\n"
          ]
        }
      ]
    },
    {
      "cell_type": "code",
      "source": [
        "# RESEARCH QUESTION: How many users are there in total in the test set?\n",
        "print(y_test.head())\n",
        "print(y_pred)\n",
        "print(X_test.head())\n",
        "sorted_X_test = X_test.sort_values(by=['User'])\n",
        "total_unique_test_users = sorted_X_test['User'].unique()\n",
        "print(total_unique_test_users)"
      ],
      "metadata": {
        "colab": {
          "base_uri": "https://localhost:8080/"
        },
        "id": "e95dvLv2jNft",
        "outputId": "cd3eef39-6db9-4754-9f0d-8e015efc251b"
      },
      "execution_count": 56,
      "outputs": [
        {
          "output_type": "stream",
          "name": "stdout",
          "text": [
            "4026     running\n",
            "10193    running\n",
            "13658    walking\n",
            "756      walking\n",
            "7126     cycling\n",
            "Name: Activity, dtype: object\n",
            "['running' 'running' 'walking' ... 'walking' 'sitting' 'sitting']\n",
            "       User         Window_Start           Window_End    Mean_x    Mean_y  \\\n",
            "4026     16  2024-04-20 09:51:46  2024-04-20 09:51:51 -5.882301  7.953865   \n",
            "10193    28  2024-04-27 23:05:12  2024-04-27 23:05:17 -9.863635  4.747241   \n",
            "13658     7  2024-04-15 15:25:09  2024-04-15 15:25:14 -5.720982  7.373427   \n",
            "756       7  2024-04-11 09:46:19  2024-04-11 09:46:24 -4.523346  9.038245   \n",
            "7126     11  2024-04-22 17:51:06  2024-04-22 17:51:11 -5.214898  5.075470   \n",
            "\n",
            "         Mean_z      Std_x      Std_y     Std_z  Skewness_x  ...  \\\n",
            "4026  -1.016331   3.294043   4.715448  3.134713   -0.083346  ...   \n",
            "10193  0.348572  16.211800  11.258894  5.930788   -0.900704  ...   \n",
            "13658  2.508291   3.281449   3.798522  2.631937   -0.286651  ...   \n",
            "756    1.535382   1.525978   3.203288  1.008924   -0.876612  ...   \n",
            "7126   6.502830   1.190407   2.053341  1.029115   -0.247087  ...   \n",
            "\n",
            "       PSD_ratio_1_y  PSD_ratio_3_y  PSD_ratio_5_y  PSD_ratio_10_y  \\\n",
            "4026        0.036837       0.006887       0.003731        0.000286   \n",
            "10193       0.736272       0.164011       0.134973        0.009942   \n",
            "13658       0.113114       0.024261       0.007253        0.001415   \n",
            "756         0.053577       0.017838       0.010332        0.003345   \n",
            "7126        0.068057       0.066054       0.062597        0.051885   \n",
            "\n",
            "       PSD_ratio_1_z  PSD_ratio_3_z  PSD_ratio_5_z  PSD_ratio_10_z  \\\n",
            "4026        0.197228       0.080913       0.047831        0.003571   \n",
            "10193       0.981480       0.307806       0.121548        0.024177   \n",
            "13658       0.336781       0.185882       0.103213        0.047090   \n",
            "756         0.141446       0.044961       0.016062        0.005315   \n",
            "7126        0.011627       0.009146       0.006421        0.004321   \n",
            "\n",
            "       Heart_Rate  Breath_Rate  \n",
            "4026        104.0         27.0  \n",
            "10193       158.0         46.0  \n",
            "13658        82.0          NaN  \n",
            "756         128.0          NaN  \n",
            "7126         68.0         15.0  \n",
            "\n",
            "[5 rows x 43 columns]\n",
            "[ 2  3  7 10 11 12 13 15 16 20 24 28 35]\n"
          ]
        }
      ]
    },
    {
      "cell_type": "code",
      "source": [
        "# RESEARCH QUESTION: How many users were there in the training set?\n",
        "sorted_X_train = X_train.sort_values(by=['User'])\n",
        "total_unique_train_users = sorted_X_train['User'].unique()\n",
        "print(total_unique_train_users)"
      ],
      "metadata": {
        "colab": {
          "base_uri": "https://localhost:8080/"
        },
        "id": "2JtRRnZlkfvO",
        "outputId": "65247d6e-c125-4298-c375-4a785d9540e8"
      },
      "execution_count": 58,
      "outputs": [
        {
          "output_type": "stream",
          "name": "stdout",
          "text": [
            "[ 2  3  7 10 11 12 13 15 16 20 24 28 35]\n"
          ]
        }
      ]
    },
    {
      "cell_type": "code",
      "source": [
        "# RESEARCH QUESTION: How often do all of the 4 activities occur per user in\n",
        "# training vs test set?\n",
        "sorted_data = data.sort_values(by=['User', 'Activity'])\n",
        "activity_count_per_user = sorted_data.groupby(['User', 'Activity']).size().unstack()\n",
        "print(activity_count_per_user)\n"
      ],
      "metadata": {
        "colab": {
          "base_uri": "https://localhost:8080/"
        },
        "id": "ltmyl0rvlijh",
        "outputId": "24f0a5fb-7e36-4660-c9c0-916dc90535b3"
      },
      "execution_count": 54,
      "outputs": [
        {
          "output_type": "stream",
          "name": "stdout",
          "text": [
            "Activity  cycling  running  sitting  walking\n",
            "User                                        \n",
            "2           575.0      NaN      NaN      NaN\n",
            "3             NaN      NaN   1463.0      NaN\n",
            "7             NaN      NaN    606.0   2297.0\n",
            "10         1121.0      NaN      NaN      NaN\n",
            "11         1342.0      NaN      NaN   1165.0\n",
            "12            NaN      NaN      NaN    768.0\n",
            "13          355.0      NaN      NaN      NaN\n",
            "15            NaN      NaN    657.0    100.0\n",
            "16            NaN    595.0      NaN      NaN\n",
            "20            NaN      NaN    895.0      NaN\n",
            "24            NaN      NaN    595.0      NaN\n",
            "28            NaN   2171.0      NaN      NaN\n",
            "35            NaN      NaN      NaN    295.0\n"
          ]
        }
      ]
    }
  ]
}