{
  "nbformat": 4,
  "nbformat_minor": 0,
  "metadata": {
    "colab": {
      "provenance": [],
      "authorship_tag": "ABX9TyNqRovYBECmk3jTVWk1NEMK",
      "include_colab_link": true
    },
    "kernelspec": {
      "name": "python3",
      "display_name": "Python 3"
    },
    "language_info": {
      "name": "python"
    }
  },
  "cells": [
    {
      "cell_type": "markdown",
      "metadata": {
        "id": "view-in-github",
        "colab_type": "text"
      },
      "source": [
        "<a href=\"https://colab.research.google.com/github/MSchukking/FirstRepo/blob/main/240719_2049_interview_assignment.ipynb\" target=\"_parent\"><img src=\"https://colab.research.google.com/assets/colab-badge.svg\" alt=\"Open In Colab\"/></a>"
      ]
    },
    {
      "cell_type": "code",
      "execution_count": 26,
      "metadata": {
        "id": "Sg7dq8bzAno2"
      },
      "outputs": [],
      "source": [
        "# import necessary libraries\n",
        "import pandas as pd\n",
        "import numpy as np\n",
        "import matplotlib.pyplot as plt\n",
        "import seaborn as sns\n",
        "from sklearn.model_selection import train_test_split\n",
        "from sklearn.preprocessing import StandardScaler, OneHotEncoder\n",
        "from sklearn.impute import SimpleImputer\n",
        "from sklearn.compose import ColumnTransformer\n",
        "from sklearn.pipeline import Pipeline\n",
        "from sklearn.linear_model import LogisticRegression\n",
        "from sklearn.ensemble import RandomForestClassifier, GradientBoostingClassifier\n",
        "from sklearn.metrics import classification_report, accuracy_score, precision_score, recall_score, f1_score, confusion_matrix\n",
        "import joblib"
      ]
    },
    {
      "cell_type": "code",
      "source": [
        "# Load the dataset: Need to upload the file first to this Jupyter Notebook\n",
        "# environment\n",
        "data = pd.read_csv('/dataset_assignment_2.csv')"
      ],
      "metadata": {
        "id": "THC3FTGQ9xV9"
      },
      "execution_count": 16,
      "outputs": []
    },
    {
      "cell_type": "code",
      "source": [
        "# Display the first few rows of the dataset\n",
        "print(data.head())"
      ],
      "metadata": {
        "colab": {
          "base_uri": "https://localhost:8080/"
        },
        "id": "MJiZHBmSCyr5",
        "outputId": "512292c0-fca1-4df5-97fa-20cf56b86458"
      },
      "execution_count": 17,
      "outputs": [
        {
          "output_type": "stream",
          "name": "stdout",
          "text": [
            "   User Activity  Activity_Number         Window_Start           Window_End  \\\n",
            "0     7  walking                9  2024-04-11 09:33:43  2024-04-11 09:33:48   \n",
            "1     7  walking                9  2024-04-11 09:33:44  2024-04-11 09:33:49   \n",
            "2     7  walking                9  2024-04-11 09:33:45  2024-04-11 09:33:50   \n",
            "3     7  walking                9  2024-04-11 09:33:46  2024-04-11 09:33:51   \n",
            "4     7  walking                9  2024-04-11 09:33:47  2024-04-11 09:33:52   \n",
            "\n",
            "     Mean_x    Mean_y    Mean_z     Std_x     Std_y  ...  PSD_ratio_1_y  \\\n",
            "0 -5.119725  8.190490  1.447585  3.506086  3.752261  ...       0.092969   \n",
            "1 -5.179565  8.145401  1.610093  3.574599  3.718254  ...       0.092848   \n",
            "2 -5.145065  8.205241  1.611283  3.585068  3.737471  ...       0.091979   \n",
            "3 -5.230602  8.196438  1.599386  3.596076  3.690269  ...       0.089673   \n",
            "4 -5.341122  8.213688  1.540617  3.597734  3.614020  ...       0.085312   \n",
            "\n",
            "   PSD_ratio_3_y  PSD_ratio_5_y  PSD_ratio_10_y  PSD_ratio_1_z  PSD_ratio_3_z  \\\n",
            "0       0.007392       0.003856        0.000978       0.464697       0.346776   \n",
            "1       0.007207       0.004354        0.001004       0.412603       0.306812   \n",
            "2       0.007187       0.005091        0.001211       0.421601       0.311315   \n",
            "3       0.006465       0.005315        0.001351       0.430681       0.306151   \n",
            "4       0.006653       0.004794        0.001312       0.440095       0.302775   \n",
            "\n",
            "   PSD_ratio_5_z  PSD_ratio_10_z  Heart_Rate  Breath_Rate  \n",
            "0       0.271388        0.175003       101.0          NaN  \n",
            "1       0.238379        0.157339       165.0         48.0  \n",
            "2       0.238967        0.156611       141.0          NaN  \n",
            "3       0.225614        0.142190       126.0         35.0  \n",
            "4       0.221377        0.135029        77.0          NaN  \n",
            "\n",
            "[5 rows x 45 columns]\n"
          ]
        }
      ]
    },
    {
      "cell_type": "code",
      "source": [
        "# 'Activity' is the target variable and the rest are features:\n",
        "X = data.drop(columns=['Activity', 'Activity_Number'])\n",
        "y = data['Activity']"
      ],
      "metadata": {
        "id": "kjeHPhUIEJEG"
      },
      "execution_count": 18,
      "outputs": []
    },
    {
      "cell_type": "code",
      "source": [
        "# Split the data into training and testing sets\n",
        "X_train, X_test, y_train, y_test = train_test_split(X, y, test_size=0.2, random_state=42, stratify=y)"
      ],
      "metadata": {
        "id": "LBoJbUXaFRC1"
      },
      "execution_count": 7,
      "outputs": []
    },
    {
      "cell_type": "code",
      "source": [
        "# Identify categorical and numerical columns\n",
        "categorical_cols = X.select_dtypes(include=['object', 'category']).columns.tolist()\n",
        "numerical_cols = X.select_dtypes(include=['number']).columns.tolist()"
      ],
      "metadata": {
        "id": "FBMEK7bBFmWk"
      },
      "execution_count": 8,
      "outputs": []
    },
    {
      "cell_type": "code",
      "source": [
        "# Preprocessing pipeline for numerical data:\n",
        "# 1. SimpleImputer(): Here it replaces missing values with the mean\n",
        "# 2. StandardScaler(): Performs z-score normalization / feature scaling so\n",
        "# that each feature contributes equally to the model's performance.\n",
        "# it:\n",
        "# A. Centers the data by substracting the mean of the feature from each data point\n",
        "# B. Scaling to Unit Variance by dividing each feature by its standard deviation\n",
        "numerical_transformer = Pipeline(steps=[\n",
        "    ('imputer', SimpleImputer(strategy='mean'))\n",
        "    ,('scaler', StandardScaler())])"
      ],
      "metadata": {
        "id": "xuIp_TMgGQ3M"
      },
      "execution_count": 28,
      "outputs": []
    },
    {
      "cell_type": "code",
      "source": [
        "# Preprocessing pipeline for categorical data:\n",
        "# 1. SimpleImputer(): Here it replaces missing values with the most frequent value\n",
        "# 2. OneHotEncoder() transforms string labels into binary so that the\n",
        "# machine learning algorithm can deal with categorical data.\n",
        "# * handle_unknown = 'ignore' ensures that unknown categories in the test are\n",
        "# ignored instead of causing an error\n",
        "categorical_transformer = Pipeline(steps=[\n",
        "    ('imputer', SimpleImputer(strategy='most_frequent'))\n",
        "    ,('onehot', OneHotEncoder(handle_unknown='ignore'))])"
      ],
      "metadata": {
        "id": "fmIazkstGjMg"
      },
      "execution_count": 29,
      "outputs": []
    },
    {
      "cell_type": "code",
      "source": [
        "# Combine preprocessing pipelines\n",
        "preprocessor = ColumnTransformer(\n",
        "    transformers=[\n",
        "        ('num', numerical_transformer, numerical_cols)\n",
        "        ,('cat', categorical_transformer, categorical_cols)\n",
        "])"
      ],
      "metadata": {
        "id": "ZFNdIb4HHCTQ"
      },
      "execution_count": 21,
      "outputs": []
    },
    {
      "cell_type": "code",
      "source": [
        "# Create the full pipeline with a RandomForestClassifier\n",
        "model = Pipeline(steps = [\n",
        "    ('preprocessor', preprocessor)\n",
        "    ,('classifier', RandomForestClassifier(random_state=42))\n",
        "])"
      ],
      "metadata": {
        "id": "BNZvXRzTH930"
      },
      "execution_count": 22,
      "outputs": []
    },
    {
      "cell_type": "code",
      "source": [
        "# Train the model\n",
        "model.fit(X_train, y_train)"
      ],
      "metadata": {
        "colab": {
          "base_uri": "https://localhost:8080/",
          "height": 227
        },
        "id": "dBqWfJ0MIZQt",
        "outputId": "f1a35c08-f50e-4443-ea71-b71ec100b222"
      },
      "execution_count": 23,
      "outputs": [
        {
          "output_type": "execute_result",
          "data": {
            "text/plain": [
              "Pipeline(steps=[('preprocessor',\n",
              "                 ColumnTransformer(transformers=[('num',\n",
              "                                                  Pipeline(steps=[('imputer',\n",
              "                                                                   SimpleImputer()),\n",
              "                                                                  ('scaler',\n",
              "                                                                   StandardScaler())]),\n",
              "                                                  ['User', 'Mean_x', 'Mean_y',\n",
              "                                                   'Mean_z', 'Std_x', 'Std_y',\n",
              "                                                   'Std_z', 'Skewness_x',\n",
              "                                                   'Skewness_y', 'Skewness_z',\n",
              "                                                   'Kurtosis_x', 'Kurtosis_y',\n",
              "                                                   'Kurtosis_z', 'Magnitude',\n",
              "                                                   'Energy', 'Entropy_x',\n",
              "                                                   'Entropy_y', 'Entropy_z',\n",
              "                                                   'Zero_Cross...\n",
              "                                                   'Max_FFT_freq_x',\n",
              "                                                   'Max_FFT_freq_y',\n",
              "                                                   'Max_FFT_freq_z',\n",
              "                                                   'PSD_sum_x', 'PSD_sum_y',\n",
              "                                                   'PSD_sum_z', 'PSD_ratio_1_x',\n",
              "                                                   'PSD_ratio_3_x',\n",
              "                                                   'PSD_ratio_5_x', ...]),\n",
              "                                                 ('cat',\n",
              "                                                  Pipeline(steps=[('imputer',\n",
              "                                                                   SimpleImputer(strategy='most_frequent')),\n",
              "                                                                  ('onehot',\n",
              "                                                                   OneHotEncoder(handle_unknown='ignore'))]),\n",
              "                                                  ['Window_Start',\n",
              "                                                   'Window_End'])])),\n",
              "                ('classifier', RandomForestClassifier(random_state=42))])"
            ],
            "text/html": [
              "<style>#sk-container-id-1 {color: black;background-color: white;}#sk-container-id-1 pre{padding: 0;}#sk-container-id-1 div.sk-toggleable {background-color: white;}#sk-container-id-1 label.sk-toggleable__label {cursor: pointer;display: block;width: 100%;margin-bottom: 0;padding: 0.3em;box-sizing: border-box;text-align: center;}#sk-container-id-1 label.sk-toggleable__label-arrow:before {content: \"▸\";float: left;margin-right: 0.25em;color: #696969;}#sk-container-id-1 label.sk-toggleable__label-arrow:hover:before {color: black;}#sk-container-id-1 div.sk-estimator:hover label.sk-toggleable__label-arrow:before {color: black;}#sk-container-id-1 div.sk-toggleable__content {max-height: 0;max-width: 0;overflow: hidden;text-align: left;background-color: #f0f8ff;}#sk-container-id-1 div.sk-toggleable__content pre {margin: 0.2em;color: black;border-radius: 0.25em;background-color: #f0f8ff;}#sk-container-id-1 input.sk-toggleable__control:checked~div.sk-toggleable__content {max-height: 200px;max-width: 100%;overflow: auto;}#sk-container-id-1 input.sk-toggleable__control:checked~label.sk-toggleable__label-arrow:before {content: \"▾\";}#sk-container-id-1 div.sk-estimator input.sk-toggleable__control:checked~label.sk-toggleable__label {background-color: #d4ebff;}#sk-container-id-1 div.sk-label input.sk-toggleable__control:checked~label.sk-toggleable__label {background-color: #d4ebff;}#sk-container-id-1 input.sk-hidden--visually {border: 0;clip: rect(1px 1px 1px 1px);clip: rect(1px, 1px, 1px, 1px);height: 1px;margin: -1px;overflow: hidden;padding: 0;position: absolute;width: 1px;}#sk-container-id-1 div.sk-estimator {font-family: monospace;background-color: #f0f8ff;border: 1px dotted black;border-radius: 0.25em;box-sizing: border-box;margin-bottom: 0.5em;}#sk-container-id-1 div.sk-estimator:hover {background-color: #d4ebff;}#sk-container-id-1 div.sk-parallel-item::after {content: \"\";width: 100%;border-bottom: 1px solid gray;flex-grow: 1;}#sk-container-id-1 div.sk-label:hover label.sk-toggleable__label {background-color: #d4ebff;}#sk-container-id-1 div.sk-serial::before {content: \"\";position: absolute;border-left: 1px solid gray;box-sizing: border-box;top: 0;bottom: 0;left: 50%;z-index: 0;}#sk-container-id-1 div.sk-serial {display: flex;flex-direction: column;align-items: center;background-color: white;padding-right: 0.2em;padding-left: 0.2em;position: relative;}#sk-container-id-1 div.sk-item {position: relative;z-index: 1;}#sk-container-id-1 div.sk-parallel {display: flex;align-items: stretch;justify-content: center;background-color: white;position: relative;}#sk-container-id-1 div.sk-item::before, #sk-container-id-1 div.sk-parallel-item::before {content: \"\";position: absolute;border-left: 1px solid gray;box-sizing: border-box;top: 0;bottom: 0;left: 50%;z-index: -1;}#sk-container-id-1 div.sk-parallel-item {display: flex;flex-direction: column;z-index: 1;position: relative;background-color: white;}#sk-container-id-1 div.sk-parallel-item:first-child::after {align-self: flex-end;width: 50%;}#sk-container-id-1 div.sk-parallel-item:last-child::after {align-self: flex-start;width: 50%;}#sk-container-id-1 div.sk-parallel-item:only-child::after {width: 0;}#sk-container-id-1 div.sk-dashed-wrapped {border: 1px dashed gray;margin: 0 0.4em 0.5em 0.4em;box-sizing: border-box;padding-bottom: 0.4em;background-color: white;}#sk-container-id-1 div.sk-label label {font-family: monospace;font-weight: bold;display: inline-block;line-height: 1.2em;}#sk-container-id-1 div.sk-label-container {text-align: center;}#sk-container-id-1 div.sk-container {/* jupyter's `normalize.less` sets `[hidden] { display: none; }` but bootstrap.min.css set `[hidden] { display: none !important; }` so we also need the `!important` here to be able to override the default hidden behavior on the sphinx rendered scikit-learn.org. See: https://github.com/scikit-learn/scikit-learn/issues/21755 */display: inline-block !important;position: relative;}#sk-container-id-1 div.sk-text-repr-fallback {display: none;}</style><div id=\"sk-container-id-1\" class=\"sk-top-container\"><div class=\"sk-text-repr-fallback\"><pre>Pipeline(steps=[(&#x27;preprocessor&#x27;,\n",
              "                 ColumnTransformer(transformers=[(&#x27;num&#x27;,\n",
              "                                                  Pipeline(steps=[(&#x27;imputer&#x27;,\n",
              "                                                                   SimpleImputer()),\n",
              "                                                                  (&#x27;scaler&#x27;,\n",
              "                                                                   StandardScaler())]),\n",
              "                                                  [&#x27;User&#x27;, &#x27;Mean_x&#x27;, &#x27;Mean_y&#x27;,\n",
              "                                                   &#x27;Mean_z&#x27;, &#x27;Std_x&#x27;, &#x27;Std_y&#x27;,\n",
              "                                                   &#x27;Std_z&#x27;, &#x27;Skewness_x&#x27;,\n",
              "                                                   &#x27;Skewness_y&#x27;, &#x27;Skewness_z&#x27;,\n",
              "                                                   &#x27;Kurtosis_x&#x27;, &#x27;Kurtosis_y&#x27;,\n",
              "                                                   &#x27;Kurtosis_z&#x27;, &#x27;Magnitude&#x27;,\n",
              "                                                   &#x27;Energy&#x27;, &#x27;Entropy_x&#x27;,\n",
              "                                                   &#x27;Entropy_y&#x27;, &#x27;Entropy_z&#x27;,\n",
              "                                                   &#x27;Zero_Cross...\n",
              "                                                   &#x27;Max_FFT_freq_x&#x27;,\n",
              "                                                   &#x27;Max_FFT_freq_y&#x27;,\n",
              "                                                   &#x27;Max_FFT_freq_z&#x27;,\n",
              "                                                   &#x27;PSD_sum_x&#x27;, &#x27;PSD_sum_y&#x27;,\n",
              "                                                   &#x27;PSD_sum_z&#x27;, &#x27;PSD_ratio_1_x&#x27;,\n",
              "                                                   &#x27;PSD_ratio_3_x&#x27;,\n",
              "                                                   &#x27;PSD_ratio_5_x&#x27;, ...]),\n",
              "                                                 (&#x27;cat&#x27;,\n",
              "                                                  Pipeline(steps=[(&#x27;imputer&#x27;,\n",
              "                                                                   SimpleImputer(strategy=&#x27;most_frequent&#x27;)),\n",
              "                                                                  (&#x27;onehot&#x27;,\n",
              "                                                                   OneHotEncoder(handle_unknown=&#x27;ignore&#x27;))]),\n",
              "                                                  [&#x27;Window_Start&#x27;,\n",
              "                                                   &#x27;Window_End&#x27;])])),\n",
              "                (&#x27;classifier&#x27;, RandomForestClassifier(random_state=42))])</pre><b>In a Jupyter environment, please rerun this cell to show the HTML representation or trust the notebook. <br />On GitHub, the HTML representation is unable to render, please try loading this page with nbviewer.org.</b></div><div class=\"sk-container\" hidden><div class=\"sk-item sk-dashed-wrapped\"><div class=\"sk-label-container\"><div class=\"sk-label sk-toggleable\"><input class=\"sk-toggleable__control sk-hidden--visually\" id=\"sk-estimator-id-1\" type=\"checkbox\" ><label for=\"sk-estimator-id-1\" class=\"sk-toggleable__label sk-toggleable__label-arrow\">Pipeline</label><div class=\"sk-toggleable__content\"><pre>Pipeline(steps=[(&#x27;preprocessor&#x27;,\n",
              "                 ColumnTransformer(transformers=[(&#x27;num&#x27;,\n",
              "                                                  Pipeline(steps=[(&#x27;imputer&#x27;,\n",
              "                                                                   SimpleImputer()),\n",
              "                                                                  (&#x27;scaler&#x27;,\n",
              "                                                                   StandardScaler())]),\n",
              "                                                  [&#x27;User&#x27;, &#x27;Mean_x&#x27;, &#x27;Mean_y&#x27;,\n",
              "                                                   &#x27;Mean_z&#x27;, &#x27;Std_x&#x27;, &#x27;Std_y&#x27;,\n",
              "                                                   &#x27;Std_z&#x27;, &#x27;Skewness_x&#x27;,\n",
              "                                                   &#x27;Skewness_y&#x27;, &#x27;Skewness_z&#x27;,\n",
              "                                                   &#x27;Kurtosis_x&#x27;, &#x27;Kurtosis_y&#x27;,\n",
              "                                                   &#x27;Kurtosis_z&#x27;, &#x27;Magnitude&#x27;,\n",
              "                                                   &#x27;Energy&#x27;, &#x27;Entropy_x&#x27;,\n",
              "                                                   &#x27;Entropy_y&#x27;, &#x27;Entropy_z&#x27;,\n",
              "                                                   &#x27;Zero_Cross...\n",
              "                                                   &#x27;Max_FFT_freq_x&#x27;,\n",
              "                                                   &#x27;Max_FFT_freq_y&#x27;,\n",
              "                                                   &#x27;Max_FFT_freq_z&#x27;,\n",
              "                                                   &#x27;PSD_sum_x&#x27;, &#x27;PSD_sum_y&#x27;,\n",
              "                                                   &#x27;PSD_sum_z&#x27;, &#x27;PSD_ratio_1_x&#x27;,\n",
              "                                                   &#x27;PSD_ratio_3_x&#x27;,\n",
              "                                                   &#x27;PSD_ratio_5_x&#x27;, ...]),\n",
              "                                                 (&#x27;cat&#x27;,\n",
              "                                                  Pipeline(steps=[(&#x27;imputer&#x27;,\n",
              "                                                                   SimpleImputer(strategy=&#x27;most_frequent&#x27;)),\n",
              "                                                                  (&#x27;onehot&#x27;,\n",
              "                                                                   OneHotEncoder(handle_unknown=&#x27;ignore&#x27;))]),\n",
              "                                                  [&#x27;Window_Start&#x27;,\n",
              "                                                   &#x27;Window_End&#x27;])])),\n",
              "                (&#x27;classifier&#x27;, RandomForestClassifier(random_state=42))])</pre></div></div></div><div class=\"sk-serial\"><div class=\"sk-item sk-dashed-wrapped\"><div class=\"sk-label-container\"><div class=\"sk-label sk-toggleable\"><input class=\"sk-toggleable__control sk-hidden--visually\" id=\"sk-estimator-id-2\" type=\"checkbox\" ><label for=\"sk-estimator-id-2\" class=\"sk-toggleable__label sk-toggleable__label-arrow\">preprocessor: ColumnTransformer</label><div class=\"sk-toggleable__content\"><pre>ColumnTransformer(transformers=[(&#x27;num&#x27;,\n",
              "                                 Pipeline(steps=[(&#x27;imputer&#x27;, SimpleImputer()),\n",
              "                                                 (&#x27;scaler&#x27;, StandardScaler())]),\n",
              "                                 [&#x27;User&#x27;, &#x27;Mean_x&#x27;, &#x27;Mean_y&#x27;, &#x27;Mean_z&#x27;, &#x27;Std_x&#x27;,\n",
              "                                  &#x27;Std_y&#x27;, &#x27;Std_z&#x27;, &#x27;Skewness_x&#x27;, &#x27;Skewness_y&#x27;,\n",
              "                                  &#x27;Skewness_z&#x27;, &#x27;Kurtosis_x&#x27;, &#x27;Kurtosis_y&#x27;,\n",
              "                                  &#x27;Kurtosis_z&#x27;, &#x27;Magnitude&#x27;, &#x27;Energy&#x27;,\n",
              "                                  &#x27;Entropy_x&#x27;, &#x27;Entropy_y&#x27;, &#x27;Entropy_z&#x27;,\n",
              "                                  &#x27;Zero_Crossing_Rate_x&#x27;,\n",
              "                                  &#x27;Zero_Crossing_Rate_y&#x27;,\n",
              "                                  &#x27;Zero_Crossing_Rate_z&#x27;, &#x27;Max_FFT_freq_x&#x27;,\n",
              "                                  &#x27;Max_FFT_freq_y&#x27;, &#x27;Max_FFT_freq_z&#x27;,\n",
              "                                  &#x27;PSD_sum_x&#x27;, &#x27;PSD_sum_y&#x27;, &#x27;PSD_sum_z&#x27;,\n",
              "                                  &#x27;PSD_ratio_1_x&#x27;, &#x27;PSD_ratio_3_x&#x27;,\n",
              "                                  &#x27;PSD_ratio_5_x&#x27;, ...]),\n",
              "                                (&#x27;cat&#x27;,\n",
              "                                 Pipeline(steps=[(&#x27;imputer&#x27;,\n",
              "                                                  SimpleImputer(strategy=&#x27;most_frequent&#x27;)),\n",
              "                                                 (&#x27;onehot&#x27;,\n",
              "                                                  OneHotEncoder(handle_unknown=&#x27;ignore&#x27;))]),\n",
              "                                 [&#x27;Window_Start&#x27;, &#x27;Window_End&#x27;])])</pre></div></div></div><div class=\"sk-parallel\"><div class=\"sk-parallel-item\"><div class=\"sk-item\"><div class=\"sk-label-container\"><div class=\"sk-label sk-toggleable\"><input class=\"sk-toggleable__control sk-hidden--visually\" id=\"sk-estimator-id-3\" type=\"checkbox\" ><label for=\"sk-estimator-id-3\" class=\"sk-toggleable__label sk-toggleable__label-arrow\">num</label><div class=\"sk-toggleable__content\"><pre>[&#x27;User&#x27;, &#x27;Mean_x&#x27;, &#x27;Mean_y&#x27;, &#x27;Mean_z&#x27;, &#x27;Std_x&#x27;, &#x27;Std_y&#x27;, &#x27;Std_z&#x27;, &#x27;Skewness_x&#x27;, &#x27;Skewness_y&#x27;, &#x27;Skewness_z&#x27;, &#x27;Kurtosis_x&#x27;, &#x27;Kurtosis_y&#x27;, &#x27;Kurtosis_z&#x27;, &#x27;Magnitude&#x27;, &#x27;Energy&#x27;, &#x27;Entropy_x&#x27;, &#x27;Entropy_y&#x27;, &#x27;Entropy_z&#x27;, &#x27;Zero_Crossing_Rate_x&#x27;, &#x27;Zero_Crossing_Rate_y&#x27;, &#x27;Zero_Crossing_Rate_z&#x27;, &#x27;Max_FFT_freq_x&#x27;, &#x27;Max_FFT_freq_y&#x27;, &#x27;Max_FFT_freq_z&#x27;, &#x27;PSD_sum_x&#x27;, &#x27;PSD_sum_y&#x27;, &#x27;PSD_sum_z&#x27;, &#x27;PSD_ratio_1_x&#x27;, &#x27;PSD_ratio_3_x&#x27;, &#x27;PSD_ratio_5_x&#x27;, &#x27;PSD_ratio_10_x&#x27;, &#x27;PSD_ratio_1_y&#x27;, &#x27;PSD_ratio_3_y&#x27;, &#x27;PSD_ratio_5_y&#x27;, &#x27;PSD_ratio_10_y&#x27;, &#x27;PSD_ratio_1_z&#x27;, &#x27;PSD_ratio_3_z&#x27;, &#x27;PSD_ratio_5_z&#x27;, &#x27;PSD_ratio_10_z&#x27;, &#x27;Heart_Rate&#x27;, &#x27;Breath_Rate&#x27;]</pre></div></div></div><div class=\"sk-serial\"><div class=\"sk-item\"><div class=\"sk-serial\"><div class=\"sk-item\"><div class=\"sk-estimator sk-toggleable\"><input class=\"sk-toggleable__control sk-hidden--visually\" id=\"sk-estimator-id-4\" type=\"checkbox\" ><label for=\"sk-estimator-id-4\" class=\"sk-toggleable__label sk-toggleable__label-arrow\">SimpleImputer</label><div class=\"sk-toggleable__content\"><pre>SimpleImputer()</pre></div></div></div><div class=\"sk-item\"><div class=\"sk-estimator sk-toggleable\"><input class=\"sk-toggleable__control sk-hidden--visually\" id=\"sk-estimator-id-5\" type=\"checkbox\" ><label for=\"sk-estimator-id-5\" class=\"sk-toggleable__label sk-toggleable__label-arrow\">StandardScaler</label><div class=\"sk-toggleable__content\"><pre>StandardScaler()</pre></div></div></div></div></div></div></div></div><div class=\"sk-parallel-item\"><div class=\"sk-item\"><div class=\"sk-label-container\"><div class=\"sk-label sk-toggleable\"><input class=\"sk-toggleable__control sk-hidden--visually\" id=\"sk-estimator-id-6\" type=\"checkbox\" ><label for=\"sk-estimator-id-6\" class=\"sk-toggleable__label sk-toggleable__label-arrow\">cat</label><div class=\"sk-toggleable__content\"><pre>[&#x27;Window_Start&#x27;, &#x27;Window_End&#x27;]</pre></div></div></div><div class=\"sk-serial\"><div class=\"sk-item\"><div class=\"sk-serial\"><div class=\"sk-item\"><div class=\"sk-estimator sk-toggleable\"><input class=\"sk-toggleable__control sk-hidden--visually\" id=\"sk-estimator-id-7\" type=\"checkbox\" ><label for=\"sk-estimator-id-7\" class=\"sk-toggleable__label sk-toggleable__label-arrow\">SimpleImputer</label><div class=\"sk-toggleable__content\"><pre>SimpleImputer(strategy=&#x27;most_frequent&#x27;)</pre></div></div></div><div class=\"sk-item\"><div class=\"sk-estimator sk-toggleable\"><input class=\"sk-toggleable__control sk-hidden--visually\" id=\"sk-estimator-id-8\" type=\"checkbox\" ><label for=\"sk-estimator-id-8\" class=\"sk-toggleable__label sk-toggleable__label-arrow\">OneHotEncoder</label><div class=\"sk-toggleable__content\"><pre>OneHotEncoder(handle_unknown=&#x27;ignore&#x27;)</pre></div></div></div></div></div></div></div></div></div></div><div class=\"sk-item\"><div class=\"sk-estimator sk-toggleable\"><input class=\"sk-toggleable__control sk-hidden--visually\" id=\"sk-estimator-id-9\" type=\"checkbox\" ><label for=\"sk-estimator-id-9\" class=\"sk-toggleable__label sk-toggleable__label-arrow\">RandomForestClassifier</label><div class=\"sk-toggleable__content\"><pre>RandomForestClassifier(random_state=42)</pre></div></div></div></div></div></div></div>"
            ]
          },
          "metadata": {},
          "execution_count": 23
        }
      ]
    },
    {
      "cell_type": "code",
      "source": [
        "# Predict on the test set\n",
        "y_pred = model.predict(X_test)"
      ],
      "metadata": {
        "id": "p7J4EUpSNweC"
      },
      "execution_count": 24,
      "outputs": []
    },
    {
      "cell_type": "code",
      "source": [
        "# Evaluate the model\n",
        "print(\"Accuracy:\", accuracy_score(y_test, y_pred))\n",
        "print(classification_report(y_test, y_pred))"
      ],
      "metadata": {
        "colab": {
          "base_uri": "https://localhost:8080/"
        },
        "id": "-__8MQ9QN3Fp",
        "outputId": "d38c5493-7d61-4bb0-b058-6ff5c78aa676"
      },
      "execution_count": 27,
      "outputs": [
        {
          "output_type": "stream",
          "name": "stdout",
          "text": [
            "Accuracy: 0.9793333333333333\n",
            "              precision    recall  f1-score   support\n",
            "\n",
            "     cycling       0.99      0.94      0.97       679\n",
            "     running       1.00      0.98      0.99       553\n",
            "     sitting       0.97      1.00      0.98       843\n",
            "     walking       0.97      0.99      0.98       925\n",
            "\n",
            "    accuracy                           0.98      3000\n",
            "   macro avg       0.98      0.98      0.98      3000\n",
            "weighted avg       0.98      0.98      0.98      3000\n",
            "\n"
          ]
        }
      ]
    }
  ]
}