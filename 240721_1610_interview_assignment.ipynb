{
  "nbformat": 4,
  "nbformat_minor": 0,
  "metadata": {
    "colab": {
      "provenance": [],
      "authorship_tag": "ABX9TyPYDA5lEWEvo9MJh07n5o7l",
      "include_colab_link": true
    },
    "kernelspec": {
      "name": "python3",
      "display_name": "Python 3"
    },
    "language_info": {
      "name": "python"
    }
  },
  "cells": [
    {
      "cell_type": "markdown",
      "metadata": {
        "id": "view-in-github",
        "colab_type": "text"
      },
      "source": [
        "<a href=\"https://colab.research.google.com/github/MSchukking/FirstRepo/blob/main/240721_1610_interview_assignment.ipynb\" target=\"_parent\"><img src=\"https://colab.research.google.com/assets/colab-badge.svg\" alt=\"Open In Colab\"/></a>"
      ]
    },
    {
      "cell_type": "markdown",
      "source": [
        "Made by: Monique Schukking\n",
        "Date: Sunday Jul 21, 2024\n",
        "Purpose: NOWATCH Interview Assignment"
      ],
      "metadata": {
        "id": "fAHJUydSoEpN"
      }
    },
    {
      "cell_type": "code",
      "execution_count": 1,
      "metadata": {
        "id": "Sg7dq8bzAno2"
      },
      "outputs": [],
      "source": [
        "# import necessary libraries\n",
        "import pandas as pd\n",
        "import numpy as np\n",
        "import matplotlib.pyplot as plt\n",
        "import seaborn as sns\n",
        "from sklearn.model_selection import train_test_split\n",
        "from sklearn.preprocessing import StandardScaler, OneHotEncoder\n",
        "from sklearn.impute import SimpleImputer\n",
        "from sklearn.compose import ColumnTransformer\n",
        "from sklearn.pipeline import Pipeline\n",
        "from sklearn.linear_model import LogisticRegression\n",
        "from sklearn.ensemble import RandomForestClassifier, GradientBoostingClassifier\n",
        "from sklearn.metrics import classification_report, accuracy_score, precision_score, recall_score, f1_score, confusion_matrix"
      ]
    },
    {
      "cell_type": "markdown",
      "source": [],
      "metadata": {
        "id": "1kwyN8Ugn5n6"
      }
    },
    {
      "cell_type": "markdown",
      "source": [],
      "metadata": {
        "id": "CtyGeVcEn3a-"
      }
    },
    {
      "cell_type": "code",
      "source": [
        "# ------------------------------------------------------------------------------\n",
        "# BUILD MACHINE LEARNING MODEL\n",
        "# ------------------------------------------------------------------------------\n",
        "\n",
        "# Load the dataset:\n",
        "# NOTE: Need to upload the file first to this Jupyter Notebook environment\n",
        "data = pd.read_csv('/content/dataset_assignment_2.csv')"
      ],
      "metadata": {
        "id": "THC3FTGQ9xV9"
      },
      "execution_count": 17,
      "outputs": []
    },
    {
      "cell_type": "code",
      "source": [
        "# Display the first few rows of the dataset\n",
        "print(data.head())"
      ],
      "metadata": {
        "colab": {
          "base_uri": "https://localhost:8080/"
        },
        "id": "MJiZHBmSCyr5",
        "outputId": "e8fe4e27-5270-4b97-de94-65e952b21093"
      },
      "execution_count": 18,
      "outputs": [
        {
          "output_type": "stream",
          "name": "stdout",
          "text": [
            "   User Activity  Activity_Number         Window_Start           Window_End  \\\n",
            "0     7  walking                9  2024-04-11 09:33:43  2024-04-11 09:33:48   \n",
            "1     7  walking                9  2024-04-11 09:33:44  2024-04-11 09:33:49   \n",
            "2     7  walking                9  2024-04-11 09:33:45  2024-04-11 09:33:50   \n",
            "3     7  walking                9  2024-04-11 09:33:46  2024-04-11 09:33:51   \n",
            "4     7  walking                9  2024-04-11 09:33:47  2024-04-11 09:33:52   \n",
            "\n",
            "     Mean_x    Mean_y    Mean_z     Std_x     Std_y  ...  PSD_ratio_1_y  \\\n",
            "0 -5.119725  8.190490  1.447585  3.506086  3.752261  ...       0.092969   \n",
            "1 -5.179565  8.145401  1.610093  3.574599  3.718254  ...       0.092848   \n",
            "2 -5.145065  8.205241  1.611283  3.585068  3.737471  ...       0.091979   \n",
            "3 -5.230602  8.196438  1.599386  3.596076  3.690269  ...       0.089673   \n",
            "4 -5.341122  8.213688  1.540617  3.597734  3.614020  ...       0.085312   \n",
            "\n",
            "   PSD_ratio_3_y  PSD_ratio_5_y  PSD_ratio_10_y  PSD_ratio_1_z  PSD_ratio_3_z  \\\n",
            "0       0.007392       0.003856        0.000978       0.464697       0.346776   \n",
            "1       0.007207       0.004354        0.001004       0.412603       0.306812   \n",
            "2       0.007187       0.005091        0.001211       0.421601       0.311315   \n",
            "3       0.006465       0.005315        0.001351       0.430681       0.306151   \n",
            "4       0.006653       0.004794        0.001312       0.440095       0.302775   \n",
            "\n",
            "   PSD_ratio_5_z  PSD_ratio_10_z  Heart_Rate  Breath_Rate  \n",
            "0       0.271388        0.175003       101.0          NaN  \n",
            "1       0.238379        0.157339       165.0         48.0  \n",
            "2       0.238967        0.156611       141.0          NaN  \n",
            "3       0.225614        0.142190       126.0         35.0  \n",
            "4       0.221377        0.135029        77.0          NaN  \n",
            "\n",
            "[5 rows x 45 columns]\n"
          ]
        }
      ]
    },
    {
      "cell_type": "code",
      "source": [
        "# 'Activity' with 'Activity_number' are the target variables:\n",
        "X = data.drop(columns=['Activity', 'Activity_Number'])\n",
        "y = data['Activity']"
      ],
      "metadata": {
        "id": "kjeHPhUIEJEG"
      },
      "execution_count": 19,
      "outputs": []
    },
    {
      "cell_type": "code",
      "source": [
        "# Split the data into training and testing sets\n",
        "X_train, X_test, y_train, y_test = train_test_split(X, y, test_size=0.2,\n",
        "                                                    random_state=42, stratify=y)"
      ],
      "metadata": {
        "id": "LBoJbUXaFRC1"
      },
      "execution_count": 20,
      "outputs": []
    },
    {
      "cell_type": "code",
      "source": [
        "# Identify categorical and numerical columns\n",
        "categorical_cols = X.select_dtypes(include=['object', 'category']).columns.tolist()\n",
        "numerical_cols = X.select_dtypes(include=['number']).columns.tolist()"
      ],
      "metadata": {
        "id": "FBMEK7bBFmWk"
      },
      "execution_count": 21,
      "outputs": []
    },
    {
      "cell_type": "code",
      "source": [
        "# Preprocessing pipeline for numerical data:\n",
        "# 1. SimpleImputer(): Here it replaces missing values with the mean\n",
        "# 2. StandardScaler(): Performs z-score normalization / feature scaling so\n",
        "# that each feature contributes equally to the model's performance.\n",
        "# it:\n",
        "# A. Centers the data by substracting the mean of the feature from each data point\n",
        "# B. Scaling to Unit Variance by dividing each feature by its standard deviation\n",
        "numerical_transformer = Pipeline(steps=[\n",
        "    ('imputer', SimpleImputer(strategy='mean'))\n",
        "    ,('scaler', StandardScaler())])"
      ],
      "metadata": {
        "id": "xuIp_TMgGQ3M"
      },
      "execution_count": 22,
      "outputs": []
    },
    {
      "cell_type": "code",
      "source": [
        "# Preprocessing pipeline for categorical data:\n",
        "# 1. SimpleImputer(): Here it replaces missing values with the most frequent value\n",
        "# 2. OneHotEncoder() transforms string labels into binary so that the\n",
        "# machine learning algorithm can deal with categorical data.\n",
        "# * handle_unknown = 'ignore' ensures that unknown categories in the test are\n",
        "# ignored instead of causing an error\n",
        "categorical_transformer = Pipeline(steps=[\n",
        "    ('imputer', SimpleImputer(strategy='most_frequent'))\n",
        "    ,('onehot', OneHotEncoder(handle_unknown='ignore'))])"
      ],
      "metadata": {
        "id": "fmIazkstGjMg"
      },
      "execution_count": 23,
      "outputs": []
    },
    {
      "cell_type": "code",
      "source": [
        "# Combine preprocessing pipelines\n",
        "preprocessor = ColumnTransformer(\n",
        "    transformers=[\n",
        "        ('num', numerical_transformer, numerical_cols)\n",
        "        ,('cat', categorical_transformer, categorical_cols)\n",
        "])"
      ],
      "metadata": {
        "id": "ZFNdIb4HHCTQ"
      },
      "execution_count": 24,
      "outputs": []
    },
    {
      "cell_type": "code",
      "source": [
        "# Create the full pipeline with a RandomForestClassifier\n",
        "activity_type_model = Pipeline(steps = [\n",
        "    ('preprocessor', preprocessor)\n",
        "    ,('classifier', RandomForestClassifier(random_state=42))\n",
        "])"
      ],
      "metadata": {
        "id": "BNZvXRzTH930"
      },
      "execution_count": 25,
      "outputs": []
    },
    {
      "cell_type": "code",
      "source": [
        "# Train the model\n",
        "activity_type_model.fit(X_train, y_train)"
      ],
      "metadata": {
        "colab": {
          "base_uri": "https://localhost:8080/",
          "height": 227
        },
        "id": "dBqWfJ0MIZQt",
        "outputId": "6e151619-f7a3-42e5-8f30-43d5a40e9912"
      },
      "execution_count": 26,
      "outputs": [
        {
          "output_type": "execute_result",
          "data": {
            "text/plain": [
              "Pipeline(steps=[('preprocessor',\n",
              "                 ColumnTransformer(transformers=[('num',\n",
              "                                                  Pipeline(steps=[('imputer',\n",
              "                                                                   SimpleImputer()),\n",
              "                                                                  ('scaler',\n",
              "                                                                   StandardScaler())]),\n",
              "                                                  ['User', 'Mean_x', 'Mean_y',\n",
              "                                                   'Mean_z', 'Std_x', 'Std_y',\n",
              "                                                   'Std_z', 'Skewness_x',\n",
              "                                                   'Skewness_y', 'Skewness_z',\n",
              "                                                   'Kurtosis_x', 'Kurtosis_y',\n",
              "                                                   'Kurtosis_z', 'Magnitude',\n",
              "                                                   'Energy', 'Entropy_x',\n",
              "                                                   'Entropy_y', 'Entropy_z',\n",
              "                                                   'Zero_Cross...\n",
              "                                                   'Max_FFT_freq_x',\n",
              "                                                   'Max_FFT_freq_y',\n",
              "                                                   'Max_FFT_freq_z',\n",
              "                                                   'PSD_sum_x', 'PSD_sum_y',\n",
              "                                                   'PSD_sum_z', 'PSD_ratio_1_x',\n",
              "                                                   'PSD_ratio_3_x',\n",
              "                                                   'PSD_ratio_5_x', ...]),\n",
              "                                                 ('cat',\n",
              "                                                  Pipeline(steps=[('imputer',\n",
              "                                                                   SimpleImputer(strategy='most_frequent')),\n",
              "                                                                  ('onehot',\n",
              "                                                                   OneHotEncoder(handle_unknown='ignore'))]),\n",
              "                                                  ['Window_Start',\n",
              "                                                   'Window_End'])])),\n",
              "                ('classifier', RandomForestClassifier(random_state=42))])"
            ],
            "text/html": [
              "<style>#sk-container-id-2 {color: black;background-color: white;}#sk-container-id-2 pre{padding: 0;}#sk-container-id-2 div.sk-toggleable {background-color: white;}#sk-container-id-2 label.sk-toggleable__label {cursor: pointer;display: block;width: 100%;margin-bottom: 0;padding: 0.3em;box-sizing: border-box;text-align: center;}#sk-container-id-2 label.sk-toggleable__label-arrow:before {content: \"▸\";float: left;margin-right: 0.25em;color: #696969;}#sk-container-id-2 label.sk-toggleable__label-arrow:hover:before {color: black;}#sk-container-id-2 div.sk-estimator:hover label.sk-toggleable__label-arrow:before {color: black;}#sk-container-id-2 div.sk-toggleable__content {max-height: 0;max-width: 0;overflow: hidden;text-align: left;background-color: #f0f8ff;}#sk-container-id-2 div.sk-toggleable__content pre {margin: 0.2em;color: black;border-radius: 0.25em;background-color: #f0f8ff;}#sk-container-id-2 input.sk-toggleable__control:checked~div.sk-toggleable__content {max-height: 200px;max-width: 100%;overflow: auto;}#sk-container-id-2 input.sk-toggleable__control:checked~label.sk-toggleable__label-arrow:before {content: \"▾\";}#sk-container-id-2 div.sk-estimator input.sk-toggleable__control:checked~label.sk-toggleable__label {background-color: #d4ebff;}#sk-container-id-2 div.sk-label input.sk-toggleable__control:checked~label.sk-toggleable__label {background-color: #d4ebff;}#sk-container-id-2 input.sk-hidden--visually {border: 0;clip: rect(1px 1px 1px 1px);clip: rect(1px, 1px, 1px, 1px);height: 1px;margin: -1px;overflow: hidden;padding: 0;position: absolute;width: 1px;}#sk-container-id-2 div.sk-estimator {font-family: monospace;background-color: #f0f8ff;border: 1px dotted black;border-radius: 0.25em;box-sizing: border-box;margin-bottom: 0.5em;}#sk-container-id-2 div.sk-estimator:hover {background-color: #d4ebff;}#sk-container-id-2 div.sk-parallel-item::after {content: \"\";width: 100%;border-bottom: 1px solid gray;flex-grow: 1;}#sk-container-id-2 div.sk-label:hover label.sk-toggleable__label {background-color: #d4ebff;}#sk-container-id-2 div.sk-serial::before {content: \"\";position: absolute;border-left: 1px solid gray;box-sizing: border-box;top: 0;bottom: 0;left: 50%;z-index: 0;}#sk-container-id-2 div.sk-serial {display: flex;flex-direction: column;align-items: center;background-color: white;padding-right: 0.2em;padding-left: 0.2em;position: relative;}#sk-container-id-2 div.sk-item {position: relative;z-index: 1;}#sk-container-id-2 div.sk-parallel {display: flex;align-items: stretch;justify-content: center;background-color: white;position: relative;}#sk-container-id-2 div.sk-item::before, #sk-container-id-2 div.sk-parallel-item::before {content: \"\";position: absolute;border-left: 1px solid gray;box-sizing: border-box;top: 0;bottom: 0;left: 50%;z-index: -1;}#sk-container-id-2 div.sk-parallel-item {display: flex;flex-direction: column;z-index: 1;position: relative;background-color: white;}#sk-container-id-2 div.sk-parallel-item:first-child::after {align-self: flex-end;width: 50%;}#sk-container-id-2 div.sk-parallel-item:last-child::after {align-self: flex-start;width: 50%;}#sk-container-id-2 div.sk-parallel-item:only-child::after {width: 0;}#sk-container-id-2 div.sk-dashed-wrapped {border: 1px dashed gray;margin: 0 0.4em 0.5em 0.4em;box-sizing: border-box;padding-bottom: 0.4em;background-color: white;}#sk-container-id-2 div.sk-label label {font-family: monospace;font-weight: bold;display: inline-block;line-height: 1.2em;}#sk-container-id-2 div.sk-label-container {text-align: center;}#sk-container-id-2 div.sk-container {/* jupyter's `normalize.less` sets `[hidden] { display: none; }` but bootstrap.min.css set `[hidden] { display: none !important; }` so we also need the `!important` here to be able to override the default hidden behavior on the sphinx rendered scikit-learn.org. See: https://github.com/scikit-learn/scikit-learn/issues/21755 */display: inline-block !important;position: relative;}#sk-container-id-2 div.sk-text-repr-fallback {display: none;}</style><div id=\"sk-container-id-2\" class=\"sk-top-container\"><div class=\"sk-text-repr-fallback\"><pre>Pipeline(steps=[(&#x27;preprocessor&#x27;,\n",
              "                 ColumnTransformer(transformers=[(&#x27;num&#x27;,\n",
              "                                                  Pipeline(steps=[(&#x27;imputer&#x27;,\n",
              "                                                                   SimpleImputer()),\n",
              "                                                                  (&#x27;scaler&#x27;,\n",
              "                                                                   StandardScaler())]),\n",
              "                                                  [&#x27;User&#x27;, &#x27;Mean_x&#x27;, &#x27;Mean_y&#x27;,\n",
              "                                                   &#x27;Mean_z&#x27;, &#x27;Std_x&#x27;, &#x27;Std_y&#x27;,\n",
              "                                                   &#x27;Std_z&#x27;, &#x27;Skewness_x&#x27;,\n",
              "                                                   &#x27;Skewness_y&#x27;, &#x27;Skewness_z&#x27;,\n",
              "                                                   &#x27;Kurtosis_x&#x27;, &#x27;Kurtosis_y&#x27;,\n",
              "                                                   &#x27;Kurtosis_z&#x27;, &#x27;Magnitude&#x27;,\n",
              "                                                   &#x27;Energy&#x27;, &#x27;Entropy_x&#x27;,\n",
              "                                                   &#x27;Entropy_y&#x27;, &#x27;Entropy_z&#x27;,\n",
              "                                                   &#x27;Zero_Cross...\n",
              "                                                   &#x27;Max_FFT_freq_x&#x27;,\n",
              "                                                   &#x27;Max_FFT_freq_y&#x27;,\n",
              "                                                   &#x27;Max_FFT_freq_z&#x27;,\n",
              "                                                   &#x27;PSD_sum_x&#x27;, &#x27;PSD_sum_y&#x27;,\n",
              "                                                   &#x27;PSD_sum_z&#x27;, &#x27;PSD_ratio_1_x&#x27;,\n",
              "                                                   &#x27;PSD_ratio_3_x&#x27;,\n",
              "                                                   &#x27;PSD_ratio_5_x&#x27;, ...]),\n",
              "                                                 (&#x27;cat&#x27;,\n",
              "                                                  Pipeline(steps=[(&#x27;imputer&#x27;,\n",
              "                                                                   SimpleImputer(strategy=&#x27;most_frequent&#x27;)),\n",
              "                                                                  (&#x27;onehot&#x27;,\n",
              "                                                                   OneHotEncoder(handle_unknown=&#x27;ignore&#x27;))]),\n",
              "                                                  [&#x27;Window_Start&#x27;,\n",
              "                                                   &#x27;Window_End&#x27;])])),\n",
              "                (&#x27;classifier&#x27;, RandomForestClassifier(random_state=42))])</pre><b>In a Jupyter environment, please rerun this cell to show the HTML representation or trust the notebook. <br />On GitHub, the HTML representation is unable to render, please try loading this page with nbviewer.org.</b></div><div class=\"sk-container\" hidden><div class=\"sk-item sk-dashed-wrapped\"><div class=\"sk-label-container\"><div class=\"sk-label sk-toggleable\"><input class=\"sk-toggleable__control sk-hidden--visually\" id=\"sk-estimator-id-10\" type=\"checkbox\" ><label for=\"sk-estimator-id-10\" class=\"sk-toggleable__label sk-toggleable__label-arrow\">Pipeline</label><div class=\"sk-toggleable__content\"><pre>Pipeline(steps=[(&#x27;preprocessor&#x27;,\n",
              "                 ColumnTransformer(transformers=[(&#x27;num&#x27;,\n",
              "                                                  Pipeline(steps=[(&#x27;imputer&#x27;,\n",
              "                                                                   SimpleImputer()),\n",
              "                                                                  (&#x27;scaler&#x27;,\n",
              "                                                                   StandardScaler())]),\n",
              "                                                  [&#x27;User&#x27;, &#x27;Mean_x&#x27;, &#x27;Mean_y&#x27;,\n",
              "                                                   &#x27;Mean_z&#x27;, &#x27;Std_x&#x27;, &#x27;Std_y&#x27;,\n",
              "                                                   &#x27;Std_z&#x27;, &#x27;Skewness_x&#x27;,\n",
              "                                                   &#x27;Skewness_y&#x27;, &#x27;Skewness_z&#x27;,\n",
              "                                                   &#x27;Kurtosis_x&#x27;, &#x27;Kurtosis_y&#x27;,\n",
              "                                                   &#x27;Kurtosis_z&#x27;, &#x27;Magnitude&#x27;,\n",
              "                                                   &#x27;Energy&#x27;, &#x27;Entropy_x&#x27;,\n",
              "                                                   &#x27;Entropy_y&#x27;, &#x27;Entropy_z&#x27;,\n",
              "                                                   &#x27;Zero_Cross...\n",
              "                                                   &#x27;Max_FFT_freq_x&#x27;,\n",
              "                                                   &#x27;Max_FFT_freq_y&#x27;,\n",
              "                                                   &#x27;Max_FFT_freq_z&#x27;,\n",
              "                                                   &#x27;PSD_sum_x&#x27;, &#x27;PSD_sum_y&#x27;,\n",
              "                                                   &#x27;PSD_sum_z&#x27;, &#x27;PSD_ratio_1_x&#x27;,\n",
              "                                                   &#x27;PSD_ratio_3_x&#x27;,\n",
              "                                                   &#x27;PSD_ratio_5_x&#x27;, ...]),\n",
              "                                                 (&#x27;cat&#x27;,\n",
              "                                                  Pipeline(steps=[(&#x27;imputer&#x27;,\n",
              "                                                                   SimpleImputer(strategy=&#x27;most_frequent&#x27;)),\n",
              "                                                                  (&#x27;onehot&#x27;,\n",
              "                                                                   OneHotEncoder(handle_unknown=&#x27;ignore&#x27;))]),\n",
              "                                                  [&#x27;Window_Start&#x27;,\n",
              "                                                   &#x27;Window_End&#x27;])])),\n",
              "                (&#x27;classifier&#x27;, RandomForestClassifier(random_state=42))])</pre></div></div></div><div class=\"sk-serial\"><div class=\"sk-item sk-dashed-wrapped\"><div class=\"sk-label-container\"><div class=\"sk-label sk-toggleable\"><input class=\"sk-toggleable__control sk-hidden--visually\" id=\"sk-estimator-id-11\" type=\"checkbox\" ><label for=\"sk-estimator-id-11\" class=\"sk-toggleable__label sk-toggleable__label-arrow\">preprocessor: ColumnTransformer</label><div class=\"sk-toggleable__content\"><pre>ColumnTransformer(transformers=[(&#x27;num&#x27;,\n",
              "                                 Pipeline(steps=[(&#x27;imputer&#x27;, SimpleImputer()),\n",
              "                                                 (&#x27;scaler&#x27;, StandardScaler())]),\n",
              "                                 [&#x27;User&#x27;, &#x27;Mean_x&#x27;, &#x27;Mean_y&#x27;, &#x27;Mean_z&#x27;, &#x27;Std_x&#x27;,\n",
              "                                  &#x27;Std_y&#x27;, &#x27;Std_z&#x27;, &#x27;Skewness_x&#x27;, &#x27;Skewness_y&#x27;,\n",
              "                                  &#x27;Skewness_z&#x27;, &#x27;Kurtosis_x&#x27;, &#x27;Kurtosis_y&#x27;,\n",
              "                                  &#x27;Kurtosis_z&#x27;, &#x27;Magnitude&#x27;, &#x27;Energy&#x27;,\n",
              "                                  &#x27;Entropy_x&#x27;, &#x27;Entropy_y&#x27;, &#x27;Entropy_z&#x27;,\n",
              "                                  &#x27;Zero_Crossing_Rate_x&#x27;,\n",
              "                                  &#x27;Zero_Crossing_Rate_y&#x27;,\n",
              "                                  &#x27;Zero_Crossing_Rate_z&#x27;, &#x27;Max_FFT_freq_x&#x27;,\n",
              "                                  &#x27;Max_FFT_freq_y&#x27;, &#x27;Max_FFT_freq_z&#x27;,\n",
              "                                  &#x27;PSD_sum_x&#x27;, &#x27;PSD_sum_y&#x27;, &#x27;PSD_sum_z&#x27;,\n",
              "                                  &#x27;PSD_ratio_1_x&#x27;, &#x27;PSD_ratio_3_x&#x27;,\n",
              "                                  &#x27;PSD_ratio_5_x&#x27;, ...]),\n",
              "                                (&#x27;cat&#x27;,\n",
              "                                 Pipeline(steps=[(&#x27;imputer&#x27;,\n",
              "                                                  SimpleImputer(strategy=&#x27;most_frequent&#x27;)),\n",
              "                                                 (&#x27;onehot&#x27;,\n",
              "                                                  OneHotEncoder(handle_unknown=&#x27;ignore&#x27;))]),\n",
              "                                 [&#x27;Window_Start&#x27;, &#x27;Window_End&#x27;])])</pre></div></div></div><div class=\"sk-parallel\"><div class=\"sk-parallel-item\"><div class=\"sk-item\"><div class=\"sk-label-container\"><div class=\"sk-label sk-toggleable\"><input class=\"sk-toggleable__control sk-hidden--visually\" id=\"sk-estimator-id-12\" type=\"checkbox\" ><label for=\"sk-estimator-id-12\" class=\"sk-toggleable__label sk-toggleable__label-arrow\">num</label><div class=\"sk-toggleable__content\"><pre>[&#x27;User&#x27;, &#x27;Mean_x&#x27;, &#x27;Mean_y&#x27;, &#x27;Mean_z&#x27;, &#x27;Std_x&#x27;, &#x27;Std_y&#x27;, &#x27;Std_z&#x27;, &#x27;Skewness_x&#x27;, &#x27;Skewness_y&#x27;, &#x27;Skewness_z&#x27;, &#x27;Kurtosis_x&#x27;, &#x27;Kurtosis_y&#x27;, &#x27;Kurtosis_z&#x27;, &#x27;Magnitude&#x27;, &#x27;Energy&#x27;, &#x27;Entropy_x&#x27;, &#x27;Entropy_y&#x27;, &#x27;Entropy_z&#x27;, &#x27;Zero_Crossing_Rate_x&#x27;, &#x27;Zero_Crossing_Rate_y&#x27;, &#x27;Zero_Crossing_Rate_z&#x27;, &#x27;Max_FFT_freq_x&#x27;, &#x27;Max_FFT_freq_y&#x27;, &#x27;Max_FFT_freq_z&#x27;, &#x27;PSD_sum_x&#x27;, &#x27;PSD_sum_y&#x27;, &#x27;PSD_sum_z&#x27;, &#x27;PSD_ratio_1_x&#x27;, &#x27;PSD_ratio_3_x&#x27;, &#x27;PSD_ratio_5_x&#x27;, &#x27;PSD_ratio_10_x&#x27;, &#x27;PSD_ratio_1_y&#x27;, &#x27;PSD_ratio_3_y&#x27;, &#x27;PSD_ratio_5_y&#x27;, &#x27;PSD_ratio_10_y&#x27;, &#x27;PSD_ratio_1_z&#x27;, &#x27;PSD_ratio_3_z&#x27;, &#x27;PSD_ratio_5_z&#x27;, &#x27;PSD_ratio_10_z&#x27;, &#x27;Heart_Rate&#x27;, &#x27;Breath_Rate&#x27;]</pre></div></div></div><div class=\"sk-serial\"><div class=\"sk-item\"><div class=\"sk-serial\"><div class=\"sk-item\"><div class=\"sk-estimator sk-toggleable\"><input class=\"sk-toggleable__control sk-hidden--visually\" id=\"sk-estimator-id-13\" type=\"checkbox\" ><label for=\"sk-estimator-id-13\" class=\"sk-toggleable__label sk-toggleable__label-arrow\">SimpleImputer</label><div class=\"sk-toggleable__content\"><pre>SimpleImputer()</pre></div></div></div><div class=\"sk-item\"><div class=\"sk-estimator sk-toggleable\"><input class=\"sk-toggleable__control sk-hidden--visually\" id=\"sk-estimator-id-14\" type=\"checkbox\" ><label for=\"sk-estimator-id-14\" class=\"sk-toggleable__label sk-toggleable__label-arrow\">StandardScaler</label><div class=\"sk-toggleable__content\"><pre>StandardScaler()</pre></div></div></div></div></div></div></div></div><div class=\"sk-parallel-item\"><div class=\"sk-item\"><div class=\"sk-label-container\"><div class=\"sk-label sk-toggleable\"><input class=\"sk-toggleable__control sk-hidden--visually\" id=\"sk-estimator-id-15\" type=\"checkbox\" ><label for=\"sk-estimator-id-15\" class=\"sk-toggleable__label sk-toggleable__label-arrow\">cat</label><div class=\"sk-toggleable__content\"><pre>[&#x27;Window_Start&#x27;, &#x27;Window_End&#x27;]</pre></div></div></div><div class=\"sk-serial\"><div class=\"sk-item\"><div class=\"sk-serial\"><div class=\"sk-item\"><div class=\"sk-estimator sk-toggleable\"><input class=\"sk-toggleable__control sk-hidden--visually\" id=\"sk-estimator-id-16\" type=\"checkbox\" ><label for=\"sk-estimator-id-16\" class=\"sk-toggleable__label sk-toggleable__label-arrow\">SimpleImputer</label><div class=\"sk-toggleable__content\"><pre>SimpleImputer(strategy=&#x27;most_frequent&#x27;)</pre></div></div></div><div class=\"sk-item\"><div class=\"sk-estimator sk-toggleable\"><input class=\"sk-toggleable__control sk-hidden--visually\" id=\"sk-estimator-id-17\" type=\"checkbox\" ><label for=\"sk-estimator-id-17\" class=\"sk-toggleable__label sk-toggleable__label-arrow\">OneHotEncoder</label><div class=\"sk-toggleable__content\"><pre>OneHotEncoder(handle_unknown=&#x27;ignore&#x27;)</pre></div></div></div></div></div></div></div></div></div></div><div class=\"sk-item\"><div class=\"sk-estimator sk-toggleable\"><input class=\"sk-toggleable__control sk-hidden--visually\" id=\"sk-estimator-id-18\" type=\"checkbox\" ><label for=\"sk-estimator-id-18\" class=\"sk-toggleable__label sk-toggleable__label-arrow\">RandomForestClassifier</label><div class=\"sk-toggleable__content\"><pre>RandomForestClassifier(random_state=42)</pre></div></div></div></div></div></div></div>"
            ]
          },
          "metadata": {},
          "execution_count": 26
        }
      ]
    },
    {
      "cell_type": "code",
      "source": [
        "# Predict on the test set\n",
        "y_pred = activity_type_model.predict(X_test)"
      ],
      "metadata": {
        "id": "p7J4EUpSNweC"
      },
      "execution_count": 27,
      "outputs": []
    },
    {
      "cell_type": "code",
      "source": [
        "# Evaluate the model\n",
        "print(\"Accuracy:\", accuracy_score(y_test, y_pred))\n",
        "print(classification_report(y_test, y_pred))"
      ],
      "metadata": {
        "colab": {
          "base_uri": "https://localhost:8080/"
        },
        "id": "-__8MQ9QN3Fp",
        "outputId": "7e6e530f-e711-4b8a-de88-4d35339930d7"
      },
      "execution_count": 28,
      "outputs": [
        {
          "output_type": "stream",
          "name": "stdout",
          "text": [
            "Accuracy: 0.9793333333333333\n",
            "              precision    recall  f1-score   support\n",
            "\n",
            "     cycling       0.99      0.94      0.97       679\n",
            "     running       1.00      0.98      0.99       553\n",
            "     sitting       0.97      1.00      0.98       843\n",
            "     walking       0.97      0.99      0.98       925\n",
            "\n",
            "    accuracy                           0.98      3000\n",
            "   macro avg       0.98      0.98      0.98      3000\n",
            "weighted avg       0.98      0.98      0.98      3000\n",
            "\n"
          ]
        }
      ]
    },
    {
      "cell_type": "code",
      "source": [
        "# ------------------------------------------------------------------------------\n",
        "# MODEL IMPROVEMENTS INVESTIGATION\n",
        "# ------------------------------------------------------------------------------\n",
        "\n",
        "# Code below is for further model improvement:\n",
        "# GOAL: Analyzing the samples that were misclassified for cycling\n",
        "\n",
        "# Step 1. Identify wrongly predicted samples: Compare the predicted samples (y_pred)\n",
        "# with the true labels (y_test) to identify the misclassified samples\n",
        "\n",
        "# Create a boolean mask for wrongly predicted samples\n",
        "wrong_predictions = y_pred != y_test\n",
        "print(wrong_predictions.head())"
      ],
      "metadata": {
        "colab": {
          "base_uri": "https://localhost:8080/"
        },
        "id": "AkCj5oz6bp_T",
        "outputId": "ee8be943-6722-47b7-d39a-1ae789aa6b05"
      },
      "execution_count": 29,
      "outputs": [
        {
          "output_type": "stream",
          "name": "stdout",
          "text": [
            "4026     False\n",
            "10193    False\n",
            "13658    False\n",
            "756      False\n",
            "7126     False\n",
            "Name: Activity, dtype: bool\n"
          ]
        }
      ]
    },
    {
      "cell_type": "code",
      "source": [
        "# Step 2. Extract wrongly predicted samples and their feature values\n",
        "# Use the boolean mask to filter out the misclassified samples and their\n",
        "# corresponding feature values\n",
        "\n",
        "# Extract the indices of wrongly predicted samples\n",
        "wrong_indices = np.where(wrong_predictions)[0]\n",
        "\n",
        "# Get the wrongly predicted samples and their true values\n",
        "wrong_samples = X_test.iloc[wrong_indices]\n",
        "wrong_true_labels = y_test.iloc[wrong_indices]\n",
        "wrong_predicted_lables = y_pred[wrong_indices]"
      ],
      "metadata": {
        "id": "_RbjeFyRc9g-"
      },
      "execution_count": 30,
      "outputs": []
    },
    {
      "cell_type": "code",
      "source": [
        "# Step 3. Combine and display the results\n",
        "# Combine the wrongly predicted samples, their true lables and predicted labels\n",
        "# into a single DataFrame for better visualization\n",
        "\n",
        "# Create a DataFrame and display the results\n",
        "wrong_predictions_df = wrong_samples.copy()\n",
        "wrong_predictions_df['True Label'] = wrong_true_labels.values\n",
        "wrong_predictions_df['Predicted Label'] = wrong_predicted_lables\n",
        "print(wrong_predictions_df.head())"
      ],
      "metadata": {
        "colab": {
          "base_uri": "https://localhost:8080/"
        },
        "id": "Ky0V8h0Ueg3U",
        "outputId": "7bda8679-330e-4c10-95c0-b0e7bcc83270"
      },
      "execution_count": 31,
      "outputs": [
        {
          "output_type": "stream",
          "name": "stdout",
          "text": [
            "       User         Window_Start           Window_End    Mean_x    Mean_y  \\\n",
            "10012    28  2024-04-27 23:02:11  2024-04-27 23:02:16 -6.969179  4.231164   \n",
            "12239    11  2024-04-25 18:03:23  2024-04-25 18:03:28 -3.915546  9.231923   \n",
            "3832     16  2024-04-20 09:48:32  2024-04-20 09:48:37 -4.206657  7.803729   \n",
            "4992     12  2024-04-18 09:47:02  2024-04-18 09:47:07  7.173682 -1.424267   \n",
            "9982     28  2024-04-27 23:01:41  2024-04-27 23:01:46 -8.937956 -0.973503   \n",
            "\n",
            "         Mean_z     Std_x     Std_y     Std_z  Skewness_x  ...  PSD_ratio_5_y  \\\n",
            "10012 -1.939631  3.874660  4.611639  4.229294   -0.919580  ...       0.007035   \n",
            "12239  0.915567  1.046030  3.224779  0.715942   -0.487373  ...       0.003205   \n",
            "3832  -4.263642  0.495968  0.370727  0.340531   -3.802613  ...       0.000334   \n",
            "4992   6.493551  0.330976  0.390785  0.223511   -2.063862  ...       0.000769   \n",
            "9982  -3.983476  0.139151  0.085940  0.184574   -0.356658  ...       0.001389   \n",
            "\n",
            "       PSD_ratio_10_y  PSD_ratio_1_z  PSD_ratio_3_z  PSD_ratio_5_z  \\\n",
            "10012        0.001246       0.355767       0.068775       0.026388   \n",
            "12239        0.000404       0.156619       0.038956       0.023467   \n",
            "3832         0.000048       0.001925       0.001540       0.000388   \n",
            "4992         0.000272       0.000095       0.000071       0.000049   \n",
            "9982         0.000466       0.000440       0.000335       0.000290   \n",
            "\n",
            "       PSD_ratio_10_z  Heart_Rate  Breath_Rate  True Label  Predicted Label  \n",
            "10012        0.004026       162.0          NaN     running          walking  \n",
            "12239        0.003507       169.0          NaN     cycling          walking  \n",
            "3832         0.000044       151.0          NaN     running          sitting  \n",
            "4992         0.000016        98.0          NaN     walking          sitting  \n",
            "9982         0.000101        94.0          NaN     running          sitting  \n",
            "\n",
            "[5 rows x 45 columns]\n"
          ]
        }
      ]
    },
    {
      "cell_type": "code",
      "source": [
        "# The model performed worst for cycling:\n",
        "# Get a DataFrame with only True Label = cycling:\n",
        "cycling_wrong_predictions = wrong_predictions_df[wrong_predictions_df['True Label'] == 'cycling']\n",
        "sorted_cycling_wrong_predictions = cycling_wrong_predictions.sort_values(by=['User'])\n",
        "\n",
        "# RESEARCH QUESTION: As what activity is cycling wrongly predicted?\n",
        "predicted_label_counts = cycling_wrong_predictions['Predicted Label'].value_counts()\n",
        "print(predicted_label_counts)\n",
        "# Print the table with only user, true label and predicted label:\n",
        "sorted_cycling_wrong_predictions_counts = sorted_cycling_wrong_predictions[['User', 'True Label', 'Predicted Label']].value_counts()\n",
        "print(sorted_cycling_wrong_predictions_counts)\n",
        "\n",
        "# RESEARCH QUESTION: For how many users did these wrong predicted cycle activity occur?\n",
        "user_ids_with_wrong_predictions = sorted_cycling_wrong_predictions['User'].unique()\n",
        "print(user_ids_with_wrong_predictions)"
      ],
      "metadata": {
        "colab": {
          "base_uri": "https://localhost:8080/"
        },
        "id": "IGiRCFOPgIn5",
        "outputId": "444b47c0-9745-4299-808b-a21b428904ac"
      },
      "execution_count": 46,
      "outputs": [
        {
          "output_type": "stream",
          "name": "stdout",
          "text": [
            "Predicted Label\n",
            "walking    23\n",
            "sitting    15\n",
            "running     1\n",
            "Name: count, dtype: int64\n",
            "User  True Label  Predicted Label\n",
            "11    cycling     walking            21\n",
            "                  sitting            12\n",
            "2     cycling     sitting             3\n",
            "10    cycling     walking             1\n",
            "11    cycling     running             1\n",
            "13    cycling     walking             1\n",
            "Name: count, dtype: int64\n",
            "[ 2 10 11 13]\n"
          ]
        }
      ]
    },
    {
      "cell_type": "code",
      "source": [
        "# RESEARCH QUESTION: Which activities were wrongly predicted as cycling?\n",
        "cycling_wrong_true_label = wrong_predictions_df[wrong_predictions_df['Predicted Label']== 'cycling']\n",
        "true_label_counts = cycling_wrong_true_label['True Label'].value_counts()\n",
        "print(true_label_counts)\n",
        "# Print the user, true label and predicted label from these results:\n",
        "print(cycling_wrong_true_label[['User', 'True Label', 'Predicted Label']])"
      ],
      "metadata": {
        "colab": {
          "base_uri": "https://localhost:8080/"
        },
        "id": "F3eykbv8h28o",
        "outputId": "b7f0fac6-2194-438e-dfbd-819abf59ff8f"
      },
      "execution_count": 50,
      "outputs": [
        {
          "output_type": "stream",
          "name": "stdout",
          "text": [
            "True Label\n",
            "sitting    3\n",
            "running    1\n",
            "walking    1\n",
            "Name: count, dtype: int64\n",
            "       User True Label Predicted Label\n",
            "1643     15    sitting         cycling\n",
            "1642     15    sitting         cycling\n",
            "3790     16    running         cycling\n",
            "2390     15    walking         cycling\n",
            "12753    20    sitting         cycling\n"
          ]
        }
      ]
    },
    {
      "cell_type": "code",
      "source": [
        "# RESEARCH QUESTION: How many users are there in total in the test set?\n",
        "sorted_X_test = X_test.sort_values(by=['User'])\n",
        "total_unique_test_users = sorted_X_test['User'].unique()\n",
        "print(total_unique_test_users)"
      ],
      "metadata": {
        "colab": {
          "base_uri": "https://localhost:8080/"
        },
        "id": "e95dvLv2jNft",
        "outputId": "368df99b-7c0a-4cd6-c971-75b08163691b"
      },
      "execution_count": 49,
      "outputs": [
        {
          "output_type": "stream",
          "name": "stdout",
          "text": [
            "[ 2  3  7 10 11 12 13 15 16 20 24 28 35]\n"
          ]
        }
      ]
    },
    {
      "cell_type": "code",
      "source": [
        "# RESEARCH QUESTION: How many users were there in the training set?\n",
        "sorted_X_train = X_train.sort_values(by=['User'])\n",
        "total_unique_train_users = sorted_X_train['User'].unique()\n",
        "print(total_unique_train_users)"
      ],
      "metadata": {
        "colab": {
          "base_uri": "https://localhost:8080/"
        },
        "id": "2JtRRnZlkfvO",
        "outputId": "df5536f6-f836-4f15-fdf4-7df217d61930"
      },
      "execution_count": 51,
      "outputs": [
        {
          "output_type": "stream",
          "name": "stdout",
          "text": [
            "[ 2  3  7 10 11 12 13 15 16 20 24 28 35]\n"
          ]
        }
      ]
    },
    {
      "cell_type": "code",
      "source": [
        "# RESEARCH QUESTION: How often do all of the 4 activities occur per user in\n",
        "# the whole dataset?\n",
        "sorted_data = data.sort_values(by=['User', 'Activity'])\n",
        "activity_count_per_user = sorted_data.groupby(['User', 'Activity']).size().unstack()\n",
        "print(activity_count_per_user)\n"
      ],
      "metadata": {
        "colab": {
          "base_uri": "https://localhost:8080/"
        },
        "id": "ltmyl0rvlijh",
        "outputId": "5076e314-7b3e-4803-8852-c41ff6abe296"
      },
      "execution_count": 52,
      "outputs": [
        {
          "output_type": "stream",
          "name": "stdout",
          "text": [
            "Activity  cycling  running  sitting  walking\n",
            "User                                        \n",
            "2           575.0      NaN      NaN      NaN\n",
            "3             NaN      NaN   1463.0      NaN\n",
            "7             NaN      NaN    606.0   2297.0\n",
            "10         1121.0      NaN      NaN      NaN\n",
            "11         1342.0      NaN      NaN   1165.0\n",
            "12            NaN      NaN      NaN    768.0\n",
            "13          355.0      NaN      NaN      NaN\n",
            "15            NaN      NaN    657.0    100.0\n",
            "16            NaN    595.0      NaN      NaN\n",
            "20            NaN      NaN    895.0      NaN\n",
            "24            NaN      NaN    595.0      NaN\n",
            "28            NaN   2171.0      NaN      NaN\n",
            "35            NaN      NaN      NaN    295.0\n"
          ]
        }
      ]
    },
    {
      "cell_type": "code",
      "source": [
        "# RESEARCH QUESTION: For each user, what are the min en max Window_start\n",
        "# date/times and the total time between this min and max?\n",
        "window_per_user = data.groupby('User').agg({\n",
        "    'Window_Start': 'min'\n",
        "    ,'Window_End': 'max'\n",
        "    })\n",
        "\n",
        "# Ensure the columns are in datetime format before substraction\n",
        "window_per_user['Window_Start'] = pd.to_datetime(window_per_user['Window_Start'])\n",
        "window_per_user['Window_End'] = pd.to_datetime(window_per_user['Window_End'])\n",
        "\n",
        "# Calculate the total time for each user:\n",
        "window_per_user['Total_time'] = window_per_user['Window_End'] - window_per_user['Window_Start']\n",
        "\n",
        "# Rename the columns\n",
        "window_per_user.rename(columns={\n",
        "    'Window_Start': 'Min_Window_Start'\n",
        "    ,'Window_End': 'Max_Window_End'\n",
        "}, inplace=True)\n",
        "\n",
        "# Display the windo info per user\n",
        "print(window_per_user)"
      ],
      "metadata": {
        "colab": {
          "base_uri": "https://localhost:8080/"
        },
        "id": "HUxZv90Vofi2",
        "outputId": "a97e8809-2f7a-474a-ecb4-aed174a070a7"
      },
      "execution_count": 54,
      "outputs": [
        {
          "output_type": "stream",
          "name": "stdout",
          "text": [
            "        Min_Window_Start      Max_Window_End      Total_time\n",
            "User                                                        \n",
            "2    2024-04-18 10:07:20 2024-04-18 10:16:59 0 days 00:09:39\n",
            "3    2024-04-11 11:45:00 2024-04-16 13:09:59 5 days 01:24:59\n",
            "7    2024-04-11 09:09:25 2024-04-15 18:52:59 4 days 09:43:34\n",
            "10   2024-04-15 17:25:00 2024-04-16 09:24:59 0 days 15:59:59\n",
            "11   2024-04-22 15:37:00 2024-04-25 18:05:59 3 days 02:28:59\n",
            "12   2024-04-18 09:47:00 2024-04-23 17:20:28 5 days 07:33:28\n",
            "13   2024-04-10 12:47:00 2024-04-10 12:52:59 0 days 00:05:59\n",
            "15   2024-04-18 12:07:42 2024-04-19 10:03:59 0 days 21:56:17\n",
            "16   2024-04-20 09:45:00 2024-04-20 09:54:59 0 days 00:09:59\n",
            "20   2024-04-16 15:05:00 2024-04-16 15:19:59 0 days 00:14:59\n",
            "24   2024-04-15 11:15:00 2024-04-15 11:24:59 0 days 00:09:59\n",
            "28   2024-04-25 22:40:00 2024-04-27 23:17:59 2 days 00:37:59\n",
            "35   2024-04-25 11:15:00 2024-04-25 11:19:59 0 days 00:04:59\n"
          ]
        }
      ]
    }
  ]
}