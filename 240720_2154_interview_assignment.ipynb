{
  "nbformat": 4,
  "nbformat_minor": 0,
  "metadata": {
    "colab": {
      "provenance": [],
      "authorship_tag": "ABX9TyMZMdb6DG4YVp9ta/wvxCC2",
      "include_colab_link": true
    },
    "kernelspec": {
      "name": "python3",
      "display_name": "Python 3"
    },
    "language_info": {
      "name": "python"
    }
  },
  "cells": [
    {
      "cell_type": "markdown",
      "metadata": {
        "id": "view-in-github",
        "colab_type": "text"
      },
      "source": [
        "<a href=\"https://colab.research.google.com/github/MSchukking/FirstRepo/blob/main/240720_2154_interview_assignment.ipynb\" target=\"_parent\"><img src=\"https://colab.research.google.com/assets/colab-badge.svg\" alt=\"Open In Colab\"/></a>"
      ]
    },
    {
      "cell_type": "code",
      "execution_count": 1,
      "metadata": {
        "id": "Sg7dq8bzAno2"
      },
      "outputs": [],
      "source": [
        "# import necessary libraries\n",
        "import pandas as pd\n",
        "import numpy as np\n",
        "import matplotlib.pyplot as plt\n",
        "import seaborn as sns\n",
        "from sklearn.model_selection import train_test_split\n",
        "from sklearn.preprocessing import StandardScaler, OneHotEncoder\n",
        "from sklearn.impute import SimpleImputer\n",
        "from sklearn.compose import ColumnTransformer\n",
        "from sklearn.pipeline import Pipeline\n",
        "from sklearn.linear_model import LogisticRegression\n",
        "from sklearn.ensemble import RandomForestClassifier, GradientBoostingClassifier\n",
        "from sklearn.metrics import classification_report, accuracy_score, precision_score, recall_score, f1_score, confusion_matrix\n",
        "import joblib"
      ]
    },
    {
      "cell_type": "code",
      "source": [
        "# Load the dataset: Need to upload the file first to this Jupyter Notebook\n",
        "# environment\n",
        "data = pd.read_csv('/content/dataset_assignment_2.csv')"
      ],
      "metadata": {
        "id": "THC3FTGQ9xV9"
      },
      "execution_count": 3,
      "outputs": []
    },
    {
      "cell_type": "code",
      "source": [
        "# Display the first few rows of the dataset\n",
        "print(data.head())"
      ],
      "metadata": {
        "colab": {
          "base_uri": "https://localhost:8080/"
        },
        "id": "MJiZHBmSCyr5",
        "outputId": "cbaca1d8-de31-4cea-aae4-c09fb9057efc"
      },
      "execution_count": 7,
      "outputs": [
        {
          "output_type": "stream",
          "name": "stdout",
          "text": [
            "   User Activity  Activity_Number         Window_Start           Window_End  \\\n",
            "0     7  walking                9  2024-04-11 09:33:43  2024-04-11 09:33:48   \n",
            "1     7  walking                9  2024-04-11 09:33:44  2024-04-11 09:33:49   \n",
            "2     7  walking                9  2024-04-11 09:33:45  2024-04-11 09:33:50   \n",
            "3     7  walking                9  2024-04-11 09:33:46  2024-04-11 09:33:51   \n",
            "4     7  walking                9  2024-04-11 09:33:47  2024-04-11 09:33:52   \n",
            "\n",
            "     Mean_x    Mean_y    Mean_z     Std_x     Std_y  ...  PSD_ratio_1_y  \\\n",
            "0 -5.119725  8.190490  1.447585  3.506086  3.752261  ...       0.092969   \n",
            "1 -5.179565  8.145401  1.610093  3.574599  3.718254  ...       0.092848   \n",
            "2 -5.145065  8.205241  1.611283  3.585068  3.737471  ...       0.091979   \n",
            "3 -5.230602  8.196438  1.599386  3.596076  3.690269  ...       0.089673   \n",
            "4 -5.341122  8.213688  1.540617  3.597734  3.614020  ...       0.085312   \n",
            "\n",
            "   PSD_ratio_3_y  PSD_ratio_5_y  PSD_ratio_10_y  PSD_ratio_1_z  PSD_ratio_3_z  \\\n",
            "0       0.007392       0.003856        0.000978       0.464697       0.346776   \n",
            "1       0.007207       0.004354        0.001004       0.412603       0.306812   \n",
            "2       0.007187       0.005091        0.001211       0.421601       0.311315   \n",
            "3       0.006465       0.005315        0.001351       0.430681       0.306151   \n",
            "4       0.006653       0.004794        0.001312       0.440095       0.302775   \n",
            "\n",
            "   PSD_ratio_5_z  PSD_ratio_10_z  Heart_Rate  Breath_Rate  \n",
            "0       0.271388        0.175003       101.0          NaN  \n",
            "1       0.238379        0.157339       165.0         48.0  \n",
            "2       0.238967        0.156611       141.0          NaN  \n",
            "3       0.225614        0.142190       126.0         35.0  \n",
            "4       0.221377        0.135029        77.0          NaN  \n",
            "\n",
            "[5 rows x 45 columns]\n"
          ]
        }
      ]
    },
    {
      "cell_type": "code",
      "source": [
        "# 'Activity' with 'Activity_number' are the target variables:\n",
        "X = data.drop(columns=['Activity', 'Activity_Number'])\n",
        "y = data['Activity']"
      ],
      "metadata": {
        "id": "kjeHPhUIEJEG"
      },
      "execution_count": 4,
      "outputs": []
    },
    {
      "cell_type": "code",
      "source": [
        "# Split the data into training and testing sets\n",
        "X_train, X_test, y_train, y_test = train_test_split(X, y, test_size=0.2, random_state=42, stratify=y)"
      ],
      "metadata": {
        "id": "LBoJbUXaFRC1"
      },
      "execution_count": 5,
      "outputs": []
    },
    {
      "cell_type": "code",
      "source": [
        "# Identify categorical and numerical columns\n",
        "categorical_cols = X.select_dtypes(include=['object', 'category']).columns.tolist()\n",
        "numerical_cols = X.select_dtypes(include=['number']).columns.tolist()"
      ],
      "metadata": {
        "id": "FBMEK7bBFmWk"
      },
      "execution_count": 6,
      "outputs": []
    },
    {
      "cell_type": "code",
      "source": [
        "# Preprocessing pipeline for numerical data:\n",
        "# 1. SimpleImputer(): Here it replaces missing values with the mean\n",
        "# 2. StandardScaler(): Performs z-score normalization / feature scaling so\n",
        "# that each feature contributes equally to the model's performance.\n",
        "# it:\n",
        "# A. Centers the data by substracting the mean of the feature from each data point\n",
        "# B. Scaling to Unit Variance by dividing each feature by its standard deviation\n",
        "numerical_transformer = Pipeline(steps=[\n",
        "    ('imputer', SimpleImputer(strategy='mean'))\n",
        "    ,('scaler', StandardScaler())])"
      ],
      "metadata": {
        "id": "xuIp_TMgGQ3M"
      },
      "execution_count": 7,
      "outputs": []
    },
    {
      "cell_type": "code",
      "source": [
        "# Preprocessing pipeline for categorical data:\n",
        "# 1. SimpleImputer(): Here it replaces missing values with the most frequent value\n",
        "# 2. OneHotEncoder() transforms string labels into binary so that the\n",
        "# machine learning algorithm can deal with categorical data.\n",
        "# * handle_unknown = 'ignore' ensures that unknown categories in the test are\n",
        "# ignored instead of causing an error\n",
        "categorical_transformer = Pipeline(steps=[\n",
        "    ('imputer', SimpleImputer(strategy='most_frequent'))\n",
        "    ,('onehot', OneHotEncoder(handle_unknown='ignore'))])"
      ],
      "metadata": {
        "id": "fmIazkstGjMg"
      },
      "execution_count": 8,
      "outputs": []
    },
    {
      "cell_type": "code",
      "source": [
        "# Combine preprocessing pipelines\n",
        "preprocessor = ColumnTransformer(\n",
        "    transformers=[\n",
        "        ('num', numerical_transformer, numerical_cols)\n",
        "        ,('cat', categorical_transformer, categorical_cols)\n",
        "])"
      ],
      "metadata": {
        "id": "ZFNdIb4HHCTQ"
      },
      "execution_count": 9,
      "outputs": []
    },
    {
      "cell_type": "code",
      "source": [
        "# Create the full pipeline with a RandomForestClassifier\n",
        "model = Pipeline(steps = [\n",
        "    ('preprocessor', preprocessor)\n",
        "    ,('classifier', RandomForestClassifier(random_state=42))\n",
        "])"
      ],
      "metadata": {
        "id": "BNZvXRzTH930"
      },
      "execution_count": 10,
      "outputs": []
    },
    {
      "cell_type": "code",
      "source": [
        "# Train the model\n",
        "model.fit(X_train, y_train)"
      ],
      "metadata": {
        "colab": {
          "base_uri": "https://localhost:8080/",
          "height": 227
        },
        "id": "dBqWfJ0MIZQt",
        "outputId": "77fc5eab-4485-4484-f499-04d2240c14a0"
      },
      "execution_count": 11,
      "outputs": [
        {
          "output_type": "execute_result",
          "data": {
            "text/plain": [
              "Pipeline(steps=[('preprocessor',\n",
              "                 ColumnTransformer(transformers=[('num',\n",
              "                                                  Pipeline(steps=[('imputer',\n",
              "                                                                   SimpleImputer()),\n",
              "                                                                  ('scaler',\n",
              "                                                                   StandardScaler())]),\n",
              "                                                  ['User', 'Mean_x', 'Mean_y',\n",
              "                                                   'Mean_z', 'Std_x', 'Std_y',\n",
              "                                                   'Std_z', 'Skewness_x',\n",
              "                                                   'Skewness_y', 'Skewness_z',\n",
              "                                                   'Kurtosis_x', 'Kurtosis_y',\n",
              "                                                   'Kurtosis_z', 'Magnitude',\n",
              "                                                   'Energy', 'Entropy_x',\n",
              "                                                   'Entropy_y', 'Entropy_z',\n",
              "                                                   'Zero_Cross...\n",
              "                                                   'Max_FFT_freq_x',\n",
              "                                                   'Max_FFT_freq_y',\n",
              "                                                   'Max_FFT_freq_z',\n",
              "                                                   'PSD_sum_x', 'PSD_sum_y',\n",
              "                                                   'PSD_sum_z', 'PSD_ratio_1_x',\n",
              "                                                   'PSD_ratio_3_x',\n",
              "                                                   'PSD_ratio_5_x', ...]),\n",
              "                                                 ('cat',\n",
              "                                                  Pipeline(steps=[('imputer',\n",
              "                                                                   SimpleImputer(strategy='most_frequent')),\n",
              "                                                                  ('onehot',\n",
              "                                                                   OneHotEncoder(handle_unknown='ignore'))]),\n",
              "                                                  ['Window_Start',\n",
              "                                                   'Window_End'])])),\n",
              "                ('classifier', RandomForestClassifier(random_state=42))])"
            ],
            "text/html": [
              "<style>#sk-container-id-1 {color: black;background-color: white;}#sk-container-id-1 pre{padding: 0;}#sk-container-id-1 div.sk-toggleable {background-color: white;}#sk-container-id-1 label.sk-toggleable__label {cursor: pointer;display: block;width: 100%;margin-bottom: 0;padding: 0.3em;box-sizing: border-box;text-align: center;}#sk-container-id-1 label.sk-toggleable__label-arrow:before {content: \"▸\";float: left;margin-right: 0.25em;color: #696969;}#sk-container-id-1 label.sk-toggleable__label-arrow:hover:before {color: black;}#sk-container-id-1 div.sk-estimator:hover label.sk-toggleable__label-arrow:before {color: black;}#sk-container-id-1 div.sk-toggleable__content {max-height: 0;max-width: 0;overflow: hidden;text-align: left;background-color: #f0f8ff;}#sk-container-id-1 div.sk-toggleable__content pre {margin: 0.2em;color: black;border-radius: 0.25em;background-color: #f0f8ff;}#sk-container-id-1 input.sk-toggleable__control:checked~div.sk-toggleable__content {max-height: 200px;max-width: 100%;overflow: auto;}#sk-container-id-1 input.sk-toggleable__control:checked~label.sk-toggleable__label-arrow:before {content: \"▾\";}#sk-container-id-1 div.sk-estimator input.sk-toggleable__control:checked~label.sk-toggleable__label {background-color: #d4ebff;}#sk-container-id-1 div.sk-label input.sk-toggleable__control:checked~label.sk-toggleable__label {background-color: #d4ebff;}#sk-container-id-1 input.sk-hidden--visually {border: 0;clip: rect(1px 1px 1px 1px);clip: rect(1px, 1px, 1px, 1px);height: 1px;margin: -1px;overflow: hidden;padding: 0;position: absolute;width: 1px;}#sk-container-id-1 div.sk-estimator {font-family: monospace;background-color: #f0f8ff;border: 1px dotted black;border-radius: 0.25em;box-sizing: border-box;margin-bottom: 0.5em;}#sk-container-id-1 div.sk-estimator:hover {background-color: #d4ebff;}#sk-container-id-1 div.sk-parallel-item::after {content: \"\";width: 100%;border-bottom: 1px solid gray;flex-grow: 1;}#sk-container-id-1 div.sk-label:hover label.sk-toggleable__label {background-color: #d4ebff;}#sk-container-id-1 div.sk-serial::before {content: \"\";position: absolute;border-left: 1px solid gray;box-sizing: border-box;top: 0;bottom: 0;left: 50%;z-index: 0;}#sk-container-id-1 div.sk-serial {display: flex;flex-direction: column;align-items: center;background-color: white;padding-right: 0.2em;padding-left: 0.2em;position: relative;}#sk-container-id-1 div.sk-item {position: relative;z-index: 1;}#sk-container-id-1 div.sk-parallel {display: flex;align-items: stretch;justify-content: center;background-color: white;position: relative;}#sk-container-id-1 div.sk-item::before, #sk-container-id-1 div.sk-parallel-item::before {content: \"\";position: absolute;border-left: 1px solid gray;box-sizing: border-box;top: 0;bottom: 0;left: 50%;z-index: -1;}#sk-container-id-1 div.sk-parallel-item {display: flex;flex-direction: column;z-index: 1;position: relative;background-color: white;}#sk-container-id-1 div.sk-parallel-item:first-child::after {align-self: flex-end;width: 50%;}#sk-container-id-1 div.sk-parallel-item:last-child::after {align-self: flex-start;width: 50%;}#sk-container-id-1 div.sk-parallel-item:only-child::after {width: 0;}#sk-container-id-1 div.sk-dashed-wrapped {border: 1px dashed gray;margin: 0 0.4em 0.5em 0.4em;box-sizing: border-box;padding-bottom: 0.4em;background-color: white;}#sk-container-id-1 div.sk-label label {font-family: monospace;font-weight: bold;display: inline-block;line-height: 1.2em;}#sk-container-id-1 div.sk-label-container {text-align: center;}#sk-container-id-1 div.sk-container {/* jupyter's `normalize.less` sets `[hidden] { display: none; }` but bootstrap.min.css set `[hidden] { display: none !important; }` so we also need the `!important` here to be able to override the default hidden behavior on the sphinx rendered scikit-learn.org. See: https://github.com/scikit-learn/scikit-learn/issues/21755 */display: inline-block !important;position: relative;}#sk-container-id-1 div.sk-text-repr-fallback {display: none;}</style><div id=\"sk-container-id-1\" class=\"sk-top-container\"><div class=\"sk-text-repr-fallback\"><pre>Pipeline(steps=[(&#x27;preprocessor&#x27;,\n",
              "                 ColumnTransformer(transformers=[(&#x27;num&#x27;,\n",
              "                                                  Pipeline(steps=[(&#x27;imputer&#x27;,\n",
              "                                                                   SimpleImputer()),\n",
              "                                                                  (&#x27;scaler&#x27;,\n",
              "                                                                   StandardScaler())]),\n",
              "                                                  [&#x27;User&#x27;, &#x27;Mean_x&#x27;, &#x27;Mean_y&#x27;,\n",
              "                                                   &#x27;Mean_z&#x27;, &#x27;Std_x&#x27;, &#x27;Std_y&#x27;,\n",
              "                                                   &#x27;Std_z&#x27;, &#x27;Skewness_x&#x27;,\n",
              "                                                   &#x27;Skewness_y&#x27;, &#x27;Skewness_z&#x27;,\n",
              "                                                   &#x27;Kurtosis_x&#x27;, &#x27;Kurtosis_y&#x27;,\n",
              "                                                   &#x27;Kurtosis_z&#x27;, &#x27;Magnitude&#x27;,\n",
              "                                                   &#x27;Energy&#x27;, &#x27;Entropy_x&#x27;,\n",
              "                                                   &#x27;Entropy_y&#x27;, &#x27;Entropy_z&#x27;,\n",
              "                                                   &#x27;Zero_Cross...\n",
              "                                                   &#x27;Max_FFT_freq_x&#x27;,\n",
              "                                                   &#x27;Max_FFT_freq_y&#x27;,\n",
              "                                                   &#x27;Max_FFT_freq_z&#x27;,\n",
              "                                                   &#x27;PSD_sum_x&#x27;, &#x27;PSD_sum_y&#x27;,\n",
              "                                                   &#x27;PSD_sum_z&#x27;, &#x27;PSD_ratio_1_x&#x27;,\n",
              "                                                   &#x27;PSD_ratio_3_x&#x27;,\n",
              "                                                   &#x27;PSD_ratio_5_x&#x27;, ...]),\n",
              "                                                 (&#x27;cat&#x27;,\n",
              "                                                  Pipeline(steps=[(&#x27;imputer&#x27;,\n",
              "                                                                   SimpleImputer(strategy=&#x27;most_frequent&#x27;)),\n",
              "                                                                  (&#x27;onehot&#x27;,\n",
              "                                                                   OneHotEncoder(handle_unknown=&#x27;ignore&#x27;))]),\n",
              "                                                  [&#x27;Window_Start&#x27;,\n",
              "                                                   &#x27;Window_End&#x27;])])),\n",
              "                (&#x27;classifier&#x27;, RandomForestClassifier(random_state=42))])</pre><b>In a Jupyter environment, please rerun this cell to show the HTML representation or trust the notebook. <br />On GitHub, the HTML representation is unable to render, please try loading this page with nbviewer.org.</b></div><div class=\"sk-container\" hidden><div class=\"sk-item sk-dashed-wrapped\"><div class=\"sk-label-container\"><div class=\"sk-label sk-toggleable\"><input class=\"sk-toggleable__control sk-hidden--visually\" id=\"sk-estimator-id-1\" type=\"checkbox\" ><label for=\"sk-estimator-id-1\" class=\"sk-toggleable__label sk-toggleable__label-arrow\">Pipeline</label><div class=\"sk-toggleable__content\"><pre>Pipeline(steps=[(&#x27;preprocessor&#x27;,\n",
              "                 ColumnTransformer(transformers=[(&#x27;num&#x27;,\n",
              "                                                  Pipeline(steps=[(&#x27;imputer&#x27;,\n",
              "                                                                   SimpleImputer()),\n",
              "                                                                  (&#x27;scaler&#x27;,\n",
              "                                                                   StandardScaler())]),\n",
              "                                                  [&#x27;User&#x27;, &#x27;Mean_x&#x27;, &#x27;Mean_y&#x27;,\n",
              "                                                   &#x27;Mean_z&#x27;, &#x27;Std_x&#x27;, &#x27;Std_y&#x27;,\n",
              "                                                   &#x27;Std_z&#x27;, &#x27;Skewness_x&#x27;,\n",
              "                                                   &#x27;Skewness_y&#x27;, &#x27;Skewness_z&#x27;,\n",
              "                                                   &#x27;Kurtosis_x&#x27;, &#x27;Kurtosis_y&#x27;,\n",
              "                                                   &#x27;Kurtosis_z&#x27;, &#x27;Magnitude&#x27;,\n",
              "                                                   &#x27;Energy&#x27;, &#x27;Entropy_x&#x27;,\n",
              "                                                   &#x27;Entropy_y&#x27;, &#x27;Entropy_z&#x27;,\n",
              "                                                   &#x27;Zero_Cross...\n",
              "                                                   &#x27;Max_FFT_freq_x&#x27;,\n",
              "                                                   &#x27;Max_FFT_freq_y&#x27;,\n",
              "                                                   &#x27;Max_FFT_freq_z&#x27;,\n",
              "                                                   &#x27;PSD_sum_x&#x27;, &#x27;PSD_sum_y&#x27;,\n",
              "                                                   &#x27;PSD_sum_z&#x27;, &#x27;PSD_ratio_1_x&#x27;,\n",
              "                                                   &#x27;PSD_ratio_3_x&#x27;,\n",
              "                                                   &#x27;PSD_ratio_5_x&#x27;, ...]),\n",
              "                                                 (&#x27;cat&#x27;,\n",
              "                                                  Pipeline(steps=[(&#x27;imputer&#x27;,\n",
              "                                                                   SimpleImputer(strategy=&#x27;most_frequent&#x27;)),\n",
              "                                                                  (&#x27;onehot&#x27;,\n",
              "                                                                   OneHotEncoder(handle_unknown=&#x27;ignore&#x27;))]),\n",
              "                                                  [&#x27;Window_Start&#x27;,\n",
              "                                                   &#x27;Window_End&#x27;])])),\n",
              "                (&#x27;classifier&#x27;, RandomForestClassifier(random_state=42))])</pre></div></div></div><div class=\"sk-serial\"><div class=\"sk-item sk-dashed-wrapped\"><div class=\"sk-label-container\"><div class=\"sk-label sk-toggleable\"><input class=\"sk-toggleable__control sk-hidden--visually\" id=\"sk-estimator-id-2\" type=\"checkbox\" ><label for=\"sk-estimator-id-2\" class=\"sk-toggleable__label sk-toggleable__label-arrow\">preprocessor: ColumnTransformer</label><div class=\"sk-toggleable__content\"><pre>ColumnTransformer(transformers=[(&#x27;num&#x27;,\n",
              "                                 Pipeline(steps=[(&#x27;imputer&#x27;, SimpleImputer()),\n",
              "                                                 (&#x27;scaler&#x27;, StandardScaler())]),\n",
              "                                 [&#x27;User&#x27;, &#x27;Mean_x&#x27;, &#x27;Mean_y&#x27;, &#x27;Mean_z&#x27;, &#x27;Std_x&#x27;,\n",
              "                                  &#x27;Std_y&#x27;, &#x27;Std_z&#x27;, &#x27;Skewness_x&#x27;, &#x27;Skewness_y&#x27;,\n",
              "                                  &#x27;Skewness_z&#x27;, &#x27;Kurtosis_x&#x27;, &#x27;Kurtosis_y&#x27;,\n",
              "                                  &#x27;Kurtosis_z&#x27;, &#x27;Magnitude&#x27;, &#x27;Energy&#x27;,\n",
              "                                  &#x27;Entropy_x&#x27;, &#x27;Entropy_y&#x27;, &#x27;Entropy_z&#x27;,\n",
              "                                  &#x27;Zero_Crossing_Rate_x&#x27;,\n",
              "                                  &#x27;Zero_Crossing_Rate_y&#x27;,\n",
              "                                  &#x27;Zero_Crossing_Rate_z&#x27;, &#x27;Max_FFT_freq_x&#x27;,\n",
              "                                  &#x27;Max_FFT_freq_y&#x27;, &#x27;Max_FFT_freq_z&#x27;,\n",
              "                                  &#x27;PSD_sum_x&#x27;, &#x27;PSD_sum_y&#x27;, &#x27;PSD_sum_z&#x27;,\n",
              "                                  &#x27;PSD_ratio_1_x&#x27;, &#x27;PSD_ratio_3_x&#x27;,\n",
              "                                  &#x27;PSD_ratio_5_x&#x27;, ...]),\n",
              "                                (&#x27;cat&#x27;,\n",
              "                                 Pipeline(steps=[(&#x27;imputer&#x27;,\n",
              "                                                  SimpleImputer(strategy=&#x27;most_frequent&#x27;)),\n",
              "                                                 (&#x27;onehot&#x27;,\n",
              "                                                  OneHotEncoder(handle_unknown=&#x27;ignore&#x27;))]),\n",
              "                                 [&#x27;Window_Start&#x27;, &#x27;Window_End&#x27;])])</pre></div></div></div><div class=\"sk-parallel\"><div class=\"sk-parallel-item\"><div class=\"sk-item\"><div class=\"sk-label-container\"><div class=\"sk-label sk-toggleable\"><input class=\"sk-toggleable__control sk-hidden--visually\" id=\"sk-estimator-id-3\" type=\"checkbox\" ><label for=\"sk-estimator-id-3\" class=\"sk-toggleable__label sk-toggleable__label-arrow\">num</label><div class=\"sk-toggleable__content\"><pre>[&#x27;User&#x27;, &#x27;Mean_x&#x27;, &#x27;Mean_y&#x27;, &#x27;Mean_z&#x27;, &#x27;Std_x&#x27;, &#x27;Std_y&#x27;, &#x27;Std_z&#x27;, &#x27;Skewness_x&#x27;, &#x27;Skewness_y&#x27;, &#x27;Skewness_z&#x27;, &#x27;Kurtosis_x&#x27;, &#x27;Kurtosis_y&#x27;, &#x27;Kurtosis_z&#x27;, &#x27;Magnitude&#x27;, &#x27;Energy&#x27;, &#x27;Entropy_x&#x27;, &#x27;Entropy_y&#x27;, &#x27;Entropy_z&#x27;, &#x27;Zero_Crossing_Rate_x&#x27;, &#x27;Zero_Crossing_Rate_y&#x27;, &#x27;Zero_Crossing_Rate_z&#x27;, &#x27;Max_FFT_freq_x&#x27;, &#x27;Max_FFT_freq_y&#x27;, &#x27;Max_FFT_freq_z&#x27;, &#x27;PSD_sum_x&#x27;, &#x27;PSD_sum_y&#x27;, &#x27;PSD_sum_z&#x27;, &#x27;PSD_ratio_1_x&#x27;, &#x27;PSD_ratio_3_x&#x27;, &#x27;PSD_ratio_5_x&#x27;, &#x27;PSD_ratio_10_x&#x27;, &#x27;PSD_ratio_1_y&#x27;, &#x27;PSD_ratio_3_y&#x27;, &#x27;PSD_ratio_5_y&#x27;, &#x27;PSD_ratio_10_y&#x27;, &#x27;PSD_ratio_1_z&#x27;, &#x27;PSD_ratio_3_z&#x27;, &#x27;PSD_ratio_5_z&#x27;, &#x27;PSD_ratio_10_z&#x27;, &#x27;Heart_Rate&#x27;, &#x27;Breath_Rate&#x27;]</pre></div></div></div><div class=\"sk-serial\"><div class=\"sk-item\"><div class=\"sk-serial\"><div class=\"sk-item\"><div class=\"sk-estimator sk-toggleable\"><input class=\"sk-toggleable__control sk-hidden--visually\" id=\"sk-estimator-id-4\" type=\"checkbox\" ><label for=\"sk-estimator-id-4\" class=\"sk-toggleable__label sk-toggleable__label-arrow\">SimpleImputer</label><div class=\"sk-toggleable__content\"><pre>SimpleImputer()</pre></div></div></div><div class=\"sk-item\"><div class=\"sk-estimator sk-toggleable\"><input class=\"sk-toggleable__control sk-hidden--visually\" id=\"sk-estimator-id-5\" type=\"checkbox\" ><label for=\"sk-estimator-id-5\" class=\"sk-toggleable__label sk-toggleable__label-arrow\">StandardScaler</label><div class=\"sk-toggleable__content\"><pre>StandardScaler()</pre></div></div></div></div></div></div></div></div><div class=\"sk-parallel-item\"><div class=\"sk-item\"><div class=\"sk-label-container\"><div class=\"sk-label sk-toggleable\"><input class=\"sk-toggleable__control sk-hidden--visually\" id=\"sk-estimator-id-6\" type=\"checkbox\" ><label for=\"sk-estimator-id-6\" class=\"sk-toggleable__label sk-toggleable__label-arrow\">cat</label><div class=\"sk-toggleable__content\"><pre>[&#x27;Window_Start&#x27;, &#x27;Window_End&#x27;]</pre></div></div></div><div class=\"sk-serial\"><div class=\"sk-item\"><div class=\"sk-serial\"><div class=\"sk-item\"><div class=\"sk-estimator sk-toggleable\"><input class=\"sk-toggleable__control sk-hidden--visually\" id=\"sk-estimator-id-7\" type=\"checkbox\" ><label for=\"sk-estimator-id-7\" class=\"sk-toggleable__label sk-toggleable__label-arrow\">SimpleImputer</label><div class=\"sk-toggleable__content\"><pre>SimpleImputer(strategy=&#x27;most_frequent&#x27;)</pre></div></div></div><div class=\"sk-item\"><div class=\"sk-estimator sk-toggleable\"><input class=\"sk-toggleable__control sk-hidden--visually\" id=\"sk-estimator-id-8\" type=\"checkbox\" ><label for=\"sk-estimator-id-8\" class=\"sk-toggleable__label sk-toggleable__label-arrow\">OneHotEncoder</label><div class=\"sk-toggleable__content\"><pre>OneHotEncoder(handle_unknown=&#x27;ignore&#x27;)</pre></div></div></div></div></div></div></div></div></div></div><div class=\"sk-item\"><div class=\"sk-estimator sk-toggleable\"><input class=\"sk-toggleable__control sk-hidden--visually\" id=\"sk-estimator-id-9\" type=\"checkbox\" ><label for=\"sk-estimator-id-9\" class=\"sk-toggleable__label sk-toggleable__label-arrow\">RandomForestClassifier</label><div class=\"sk-toggleable__content\"><pre>RandomForestClassifier(random_state=42)</pre></div></div></div></div></div></div></div>"
            ]
          },
          "metadata": {},
          "execution_count": 11
        }
      ]
    },
    {
      "cell_type": "code",
      "source": [
        "# Predict on the test set\n",
        "y_pred = model.predict(X_test)"
      ],
      "metadata": {
        "id": "p7J4EUpSNweC"
      },
      "execution_count": 12,
      "outputs": []
    },
    {
      "cell_type": "code",
      "source": [
        "# Evaluate the model\n",
        "print(\"Accuracy:\", accuracy_score(y_test, y_pred))\n",
        "print(classification_report(y_test, y_pred))"
      ],
      "metadata": {
        "colab": {
          "base_uri": "https://localhost:8080/"
        },
        "id": "-__8MQ9QN3Fp",
        "outputId": "12d9b38c-8306-4e04-b699-815b2d4915d3"
      },
      "execution_count": 13,
      "outputs": [
        {
          "output_type": "stream",
          "name": "stdout",
          "text": [
            "Accuracy: 0.9789144865286997\n",
            "              precision    recall  f1-score   support\n",
            "\n",
            "     cycling       0.98      0.97      0.97       610\n",
            "     running       0.99      0.98      0.99       553\n",
            "     sitting       0.97      0.99      0.98       747\n",
            "     walking       0.97      0.98      0.98       651\n",
            "\n",
            "    accuracy                           0.98      2561\n",
            "   macro avg       0.98      0.98      0.98      2561\n",
            "weighted avg       0.98      0.98      0.98      2561\n",
            "\n"
          ]
        }
      ]
    },
    {
      "cell_type": "code",
      "source": [
        "# ------------------------------------------------------------------------------\n",
        "# Below here is for further model improvement\n",
        "# - Analyzing the samples that were misclassified\n",
        "# - And investigating the feature values that might have contributed to the misclassification\n",
        "# ------------------------------------------------------------------------------\n",
        "# Step 1. Identify wrongly predicted samples: Compare the predicted samples (y_pred)\n",
        "# with the true labels (y_test) to identify the misclassified samples\n",
        "\n",
        "# Create a boolean mask for wrongly predicted samples\n",
        "wrong_predictions = y_pred != y_test\n",
        "print(wrong_predictions.head())"
      ],
      "metadata": {
        "colab": {
          "base_uri": "https://localhost:8080/"
        },
        "id": "AkCj5oz6bp_T",
        "outputId": "f37e1e49-1df2-4f78-e24c-b11cab1845d7"
      },
      "execution_count": 14,
      "outputs": [
        {
          "output_type": "stream",
          "name": "stdout",
          "text": [
            "3374     False\n",
            "1074     False\n",
            "8744     False\n",
            "10977    False\n",
            "2294     False\n",
            "Name: Activity, dtype: bool\n"
          ]
        }
      ]
    },
    {
      "cell_type": "code",
      "source": [
        "# Step 2. Extract wrongly predicted samples and their feature values\n",
        "# Use the boolean mask to filter out the misclassified samples and their\n",
        "# corresponding feature values\n",
        "\n",
        "# Extract the indices of wrongly predicted samples\n",
        "wrong_indices = np.where(wrong_predictions)[0]\n",
        "\n",
        "# Get the wrongly predicted samples and their true values\n",
        "wrong_samples = X_test.iloc[wrong_indices]\n",
        "wrong_true_labels = y_test.iloc[wrong_indices]\n",
        "wrong_predicted_lables = y_pred[wrong_indices]"
      ],
      "metadata": {
        "id": "_RbjeFyRc9g-"
      },
      "execution_count": 15,
      "outputs": []
    },
    {
      "cell_type": "code",
      "source": [
        "# Step 3. Combine and display the results\n",
        "# Combine the wrongly predicted samples, their true lables and predicted labels\n",
        "# into a single DataFrame for better visualization\n",
        "\n",
        "# Create a DataFrame and display the results\n",
        "wrong_predictions_df = wrong_samples.copy()\n",
        "wrong_predictions_df['True Label'] = wrong_true_labels.values\n",
        "wrong_predictions_df['Predicted Label'] = wrong_predicted_lables\n",
        "print(wrong_predictions_df.head())"
      ],
      "metadata": {
        "colab": {
          "base_uri": "https://localhost:8080/"
        },
        "id": "Ky0V8h0Ueg3U",
        "outputId": "01b88eec-5962-4131-d950-e6c7b4f9dfdf"
      },
      "execution_count": 17,
      "outputs": [
        {
          "output_type": "stream",
          "name": "stdout",
          "text": [
            "       User         Window_Start           Window_End    Mean_x    Mean_y  \\\n",
            "12188    11  2024-04-25 18:02:32  2024-04-25 18:02:37 -5.177543  9.125804   \n",
            "12750    20  2024-04-16 15:10:59  2024-04-16 15:11:04 -5.300673 -3.300251   \n",
            "9989     28  2024-04-27 23:01:48  2024-04-27 23:01:53 -8.842307 -0.395683   \n",
            "12193    11  2024-04-25 18:02:37  2024-04-25 18:02:42 -6.775264 -3.918044   \n",
            "3743     16  2024-04-20 09:47:03  2024-04-20 09:47:08 -5.903120  7.155362   \n",
            "\n",
            "         Mean_z     Std_x     Std_y     Std_z  Skewness_x  ...  PSD_ratio_5_y  \\\n",
            "12188 -0.236862  2.264881  2.337203  1.848208   -1.932785  ...       0.002066   \n",
            "12750  1.127684  3.440438  3.993118  6.466993   -0.260551  ...       0.017164   \n",
            "9989  -4.286602  0.135897  0.082636  0.113694   -0.615227  ...       0.007462   \n",
            "12193 -0.355353  3.985229  5.394687  3.153733   -1.417723  ...       0.006217   \n",
            "3743   0.518575  3.238599  5.552699  2.654547   -0.141053  ...       0.006581   \n",
            "\n",
            "       PSD_ratio_10_y  PSD_ratio_1_z  PSD_ratio_3_z  PSD_ratio_5_z  \\\n",
            "12188        0.000580       0.531882       0.163964       0.050099   \n",
            "12750        0.003933       0.052168       0.028434       0.018321   \n",
            "9989         0.001769       0.000301       0.000271       0.000229   \n",
            "12193        0.001146       0.407089       0.108749       0.042236   \n",
            "3743         0.001466       0.300264       0.089304       0.054928   \n",
            "\n",
            "       PSD_ratio_10_z  Heart_Rate  Breath_Rate  True Label  Predicted Label  \n",
            "12188        0.004825       116.0          NaN     cycling          running  \n",
            "12750        0.004009        63.0          NaN     sitting          walking  \n",
            "9989         0.000043       150.0         43.0     running          sitting  \n",
            "12193        0.013626       125.0         34.0     cycling          walking  \n",
            "3743         0.014782        66.0          NaN     running          walking  \n",
            "\n",
            "[5 rows x 45 columns]\n"
          ]
        }
      ]
    },
    {
      "cell_type": "code",
      "source": [
        "# The model performed worst for cycling:\n",
        "# Get a DataFrame with only True Label = cycling:\n",
        "cycling_wrong_predictions = wrong_predictions_df[wrong_predictions_df['True Label'] == 'cycling']\n",
        "\n",
        "# RESEARCH QUESTION: As what activity is cycling wrongly predicted?\n",
        "predicted_label_counts = cycling_wrong_predictions['Predicted Label'].value_counts()\n",
        "print(predicted_label_counts)\n",
        "\n",
        "# RESEARCH QUESTION: For how many users did these wrong predicted cycle activity occur?\n",
        "sorted_cycling_wrong_predictions = cycling_wrong_predictions.sort_values(by=['User'])\n",
        "user_ids_with_wrong_predictions = sorted_cycling_wrong_predictions['User'].unique()\n",
        "print(user_ids_with_wrong_predictions)"
      ],
      "metadata": {
        "colab": {
          "base_uri": "https://localhost:8080/"
        },
        "id": "IGiRCFOPgIn5",
        "outputId": "53223a6a-3092-470c-e480-43b61d16695f"
      },
      "execution_count": 18,
      "outputs": [
        {
          "output_type": "stream",
          "name": "stdout",
          "text": [
            "Predicted Label\n",
            "walking    11\n",
            "sitting     7\n",
            "running     2\n",
            "Name: count, dtype: int64\n",
            "[ 2 10 11 13]\n"
          ]
        }
      ]
    },
    {
      "cell_type": "code",
      "source": [
        "# RESEARCH QUESTION: How many users are there in total in the test set?\n",
        "print(y_test.head())\n",
        "print(y_pred)\n",
        "print(X_test.head())\n",
        "sorted_X_test = X_test.sort_values(by=['User'])\n",
        "total_unique_test_users = sorted_X_test['User'].unique()\n",
        "print(total_unique_test_users)"
      ],
      "metadata": {
        "colab": {
          "base_uri": "https://localhost:8080/"
        },
        "id": "e95dvLv2jNft",
        "outputId": "4741ce5b-0a24-42d4-a84d-2d7723ea1c12"
      },
      "execution_count": 19,
      "outputs": [
        {
          "output_type": "stream",
          "name": "stdout",
          "text": [
            "3374     sitting\n",
            "1074     walking\n",
            "8744     running\n",
            "10977    sitting\n",
            "2294     sitting\n",
            "Name: Activity, dtype: object\n",
            "['sitting' 'walking' 'running' ... 'sitting' 'sitting' 'sitting']\n",
            "       User         Window_Start           Window_End     Mean_x    Mean_y  \\\n",
            "3374      7  2024-04-11 09:17:49  2024-04-11 09:17:54  -5.137213 -8.383572   \n",
            "1074     35  2024-04-25 11:19:42  2024-04-25 11:19:47  -4.274944 -2.755027   \n",
            "8744     28  2024-04-25 22:45:14  2024-04-25 22:45:19 -10.249206  4.855025   \n",
            "10977     3  2024-04-16 13:00:48  2024-04-16 13:00:53  -5.403103 -2.875540   \n",
            "2294     24  2024-04-15 11:24:10  2024-04-15 11:24:15  -2.671632 -7.574957   \n",
            "\n",
            "         Mean_z      Std_x      Std_y     Std_z  Skewness_x  ...  \\\n",
            "3374  -0.752463   0.129860   0.101844  0.153220   -0.823633  ...   \n",
            "1074   2.141160   3.760148   7.272409  2.260016   -0.985152  ...   \n",
            "8744   1.309822  15.966101  11.079219  6.965885   -0.844526  ...   \n",
            "10977  7.830854   0.026034   0.033868  0.024469   -0.504934  ...   \n",
            "2294   2.755622   3.375100   3.115102  2.780771   -1.019026  ...   \n",
            "\n",
            "       PSD_ratio_1_y  PSD_ratio_3_y  PSD_ratio_5_y  PSD_ratio_10_y  \\\n",
            "3374        0.000028       0.000009       0.000009        0.000002   \n",
            "1074        0.037384       0.015201       0.008269        0.003038   \n",
            "8744        0.715845       0.131136       0.097453        0.016516   \n",
            "10977       0.000017       0.000012       0.000009        0.000003   \n",
            "2294        0.004678       0.001813       0.000813        0.000281   \n",
            "\n",
            "       PSD_ratio_1_z  PSD_ratio_3_z  PSD_ratio_5_z  PSD_ratio_10_z  \\\n",
            "3374        0.006924       0.005193       0.002209    4.696369e-04   \n",
            "1074        0.112288       0.036912       0.021683    4.194730e-03   \n",
            "8744        0.891076       0.295048       0.175029    2.461170e-02   \n",
            "10977       0.000002       0.000001       0.000001    3.721504e-07   \n",
            "2294        0.021638       0.010954       0.003512    1.228637e-03   \n",
            "\n",
            "       Heart_Rate  Breath_Rate  \n",
            "3374        150.0          NaN  \n",
            "1074        169.0         50.0  \n",
            "8744        117.0          NaN  \n",
            "10977       141.0          NaN  \n",
            "2294         61.0          NaN  \n",
            "\n",
            "[5 rows x 43 columns]\n",
            "[ 2  3  7 10 11 12 13 15 16 20 24 28 35]\n"
          ]
        }
      ]
    },
    {
      "cell_type": "code",
      "source": [
        "# RESEARCH QUESTION: How many users were there in the training set?\n",
        "sorted_X_train = X_train.sort_values(by=['User'])\n",
        "total_unique_train_users = sorted_X_train['User'].unique()\n",
        "print(total_unique_train_users)"
      ],
      "metadata": {
        "colab": {
          "base_uri": "https://localhost:8080/"
        },
        "id": "2JtRRnZlkfvO",
        "outputId": "4e4d0a86-ba76-45c0-dba3-d4f9e54db01b"
      },
      "execution_count": 20,
      "outputs": [
        {
          "output_type": "stream",
          "name": "stdout",
          "text": [
            "[ 2  3  7 10 11 12 13 15 16 20 24 28 35]\n"
          ]
        }
      ]
    },
    {
      "cell_type": "code",
      "source": [
        "# RESEARCH QUESTION: How often do all of the 4 activities occur per user in\n",
        "# training vs test set?\n",
        "sorted_data = data.sort_values(by=['User', 'Activity'])\n",
        "activity_count_per_user = sorted_data.groupby(['User', 'Activity']).size().unstack()\n",
        "print(activity_count_per_user)\n"
      ],
      "metadata": {
        "colab": {
          "base_uri": "https://localhost:8080/"
        },
        "id": "ltmyl0rvlijh",
        "outputId": "e1a22e22-fe37-4417-804f-c6bcb3e6ab53"
      },
      "execution_count": 21,
      "outputs": [
        {
          "output_type": "stream",
          "name": "stdout",
          "text": [
            "Activity  cycling  running  sitting  walking\n",
            "User                                        \n",
            "2           575.0      NaN      NaN      NaN\n",
            "3             NaN      NaN   1463.0      NaN\n",
            "7             NaN      NaN    606.0   1879.0\n",
            "10          775.0      NaN      NaN      NaN\n",
            "11         1342.0      NaN      NaN    690.0\n",
            "12            NaN      NaN      NaN    293.0\n",
            "13          355.0      NaN      NaN      NaN\n",
            "15            NaN      NaN    657.0    100.0\n",
            "16            NaN    595.0      NaN      NaN\n",
            "20            NaN      NaN    414.0      NaN\n",
            "24            NaN      NaN    595.0      NaN\n",
            "28            NaN   2171.0      NaN      NaN\n",
            "35            NaN      NaN      NaN    295.0\n"
          ]
        }
      ]
    },
    {
      "cell_type": "code",
      "source": [
        "# RESEARCH QUESTION: Does User 11 have cycling never wrongly predicted as walking?\n",
        "user11_wrong_predictions = wrong_predictions_df[wrong_predictions_df['User'] == 11]\n",
        "sorted_user11_wrong_predictions = user11_wrong_predictions.sort_values(by=['Window_Start'])\n",
        "print(sorted_user11_wrong_predictions)\n",
        "\n",
        "user11_data = data[data['User'] == 11]\n",
        "sorted_user11_data = user11_data.sort_values(by=['Window_Start'])\n",
        "print(sorted_user11_data)\n"
      ],
      "metadata": {
        "colab": {
          "base_uri": "https://localhost:8080/"
        },
        "id": "tbCGGoJSi8n9",
        "outputId": "0902a76f-1c11-4b47-d1ad-5ee5a9935dd1"
      },
      "execution_count": 25,
      "outputs": [
        {
          "output_type": "stream",
          "name": "stdout",
          "text": [
            "       User         Window_Start           Window_End    Mean_x    Mean_y  \\\n",
            "7373     11  2024-04-22 17:55:13  2024-04-22 17:55:18 -8.458759 -0.371533   \n",
            "11526    11  2024-04-25 17:51:30  2024-04-25 17:51:35 -4.591157  3.779091   \n",
            "12111    11  2024-04-25 18:01:15  2024-04-25 18:01:20 -5.763334  7.707247   \n",
            "12158    11  2024-04-25 18:02:02  2024-04-25 18:02:07 -7.212822 -3.835957   \n",
            "12159    11  2024-04-25 18:02:03  2024-04-25 18:02:08 -7.175348 -3.685821   \n",
            "12188    11  2024-04-25 18:02:32  2024-04-25 18:02:37 -5.177543  9.125804   \n",
            "12189    11  2024-04-25 18:02:33  2024-04-25 18:02:38 -5.805805  7.551877   \n",
            "12193    11  2024-04-25 18:02:37  2024-04-25 18:02:42 -6.775264 -3.918044   \n",
            "12196    11  2024-04-25 18:02:40  2024-04-25 18:02:45 -6.574329  2.265837   \n",
            "12197    11  2024-04-25 18:02:41  2024-04-25 18:02:46 -5.731094  4.004176   \n",
            "12215    11  2024-04-25 18:02:59  2024-04-25 18:03:04 -4.224859  3.817993   \n",
            "12248    11  2024-04-25 18:03:32  2024-04-25 18:03:37 -6.632504  3.357117   \n",
            "12263    11  2024-04-25 18:03:47  2024-04-25 18:03:52 -8.146115  4.581402   \n",
            "12264    11  2024-04-25 18:03:48  2024-04-25 18:03:53 -6.891851  6.114761   \n",
            "12289    11  2024-04-25 18:04:13  2024-04-25 18:04:18 -3.498449  9.246674   \n",
            "\n",
            "         Mean_z     Std_x     Std_y     Std_z  Skewness_x  ...  PSD_ratio_5_y  \\\n",
            "7373  -5.052152  0.471578  0.753854  0.618258    0.361144  ...       0.031608   \n",
            "11526  7.733420  1.013124  0.645469  0.473378    2.019530  ...       0.001088   \n",
            "12111  1.475780  2.188459  2.784983  1.691209   -0.325238  ...       0.003032   \n",
            "12158 -5.472580  0.513520  0.507137  0.690830    1.068435  ...       0.000323   \n",
            "12159 -5.568467  0.601146  0.618768  0.821336    0.553229  ...       0.000342   \n",
            "12188 -0.236862  2.264881  2.337203  1.848208   -1.932785  ...       0.002066   \n",
            "12189 -0.315499  3.262943  4.307491  2.320277   -1.416379  ...       0.004649   \n",
            "12193 -0.355353  3.985229  5.394687  3.153733   -1.417723  ...       0.006217   \n",
            "12196 -0.376410  3.576032  7.181585  2.470625   -1.921072  ...       0.010539   \n",
            "12197  0.235435  2.614970  7.349309  2.609884   -1.013158  ...       0.008173   \n",
            "12215  1.897635  2.821426  8.417499  1.362592   -1.959316  ...       0.009193   \n",
            "12248 -3.410414  2.367073  5.045783  3.346726   -0.966592  ...       0.010371   \n",
            "12263 -0.888799  2.813027  3.546251  1.892412   -0.327708  ...       0.003903   \n",
            "12264 -0.371651  2.906947  3.655919  2.028617   -0.457249  ...       0.003397   \n",
            "12289 -0.323470  2.672587  4.798569  2.849101   -0.630729  ...       0.008379   \n",
            "\n",
            "       PSD_ratio_10_y  PSD_ratio_1_z  PSD_ratio_3_z  PSD_ratio_5_z  \\\n",
            "7373         0.002994       0.003566       0.002638       0.000679   \n",
            "11526        0.000473       0.001407       0.001029       0.000849   \n",
            "12111        0.000581       0.211426       0.103998       0.065714   \n",
            "12158        0.000084       0.002348       0.000241       0.000155   \n",
            "12159        0.000034       0.004620       0.000407       0.000257   \n",
            "12188        0.000580       0.531882       0.163964       0.050099   \n",
            "12189        0.001425       0.620952       0.133526       0.061644   \n",
            "12193        0.001146       0.407089       0.108749       0.042236   \n",
            "12196        0.003077       0.337619       0.083702       0.041732   \n",
            "12197        0.001301       0.374194       0.058961       0.045442   \n",
            "12215        0.002939       0.112884       0.054381       0.030193   \n",
            "12248        0.002096       0.094603       0.031180       0.014624   \n",
            "12263        0.000531       0.509483       0.116102       0.062279   \n",
            "12264        0.000869       0.493284       0.139760       0.067894   \n",
            "12289        0.000973       0.683787       0.217245       0.099810   \n",
            "\n",
            "       PSD_ratio_10_z  Heart_Rate  Breath_Rate  True Label  Predicted Label  \n",
            "7373         0.000191       126.0          NaN     cycling          sitting  \n",
            "11526        0.000230        72.0         16.0     cycling          sitting  \n",
            "12111        0.024450       140.0         39.0     cycling          walking  \n",
            "12158        0.000046       103.0         27.0     cycling          sitting  \n",
            "12159        0.000050        77.0         18.0     cycling          sitting  \n",
            "12188        0.004825       116.0          NaN     cycling          running  \n",
            "12189        0.008818       108.0         28.0     cycling          walking  \n",
            "12193        0.013626       125.0         34.0     cycling          walking  \n",
            "12196        0.014301       149.0         43.0     cycling          walking  \n",
            "12197        0.010112        78.0          NaN     cycling          walking  \n",
            "12215        0.007882       109.0         29.0     cycling          walking  \n",
            "12248        0.003352        83.0         20.0     cycling          walking  \n",
            "12263        0.012295        71.0          NaN     cycling          walking  \n",
            "12264        0.015680       145.0         42.0     cycling          walking  \n",
            "12289        0.020639        61.0         12.0     cycling          running  \n",
            "\n",
            "[15 rows x 45 columns]\n",
            "       User Activity  Activity_Number         Window_Start  \\\n",
            "7060     11  cycling               12  2024-04-22 17:50:00   \n",
            "7061     11  cycling               12  2024-04-22 17:50:01   \n",
            "7062     11  cycling               12  2024-04-22 17:50:02   \n",
            "7063     11  cycling               12  2024-04-22 17:50:03   \n",
            "7064     11  cycling               12  2024-04-22 17:50:04   \n",
            "...     ...      ...              ...                  ...   \n",
            "12386    11  cycling               13  2024-04-25 18:05:50   \n",
            "12387    11  cycling               13  2024-04-25 18:05:51   \n",
            "12388    11  cycling               13  2024-04-25 18:05:52   \n",
            "12389    11  cycling               13  2024-04-25 18:05:53   \n",
            "12390    11  cycling               13  2024-04-25 18:05:54   \n",
            "\n",
            "                Window_End    Mean_x    Mean_y    Mean_z     Std_x     Std_y  \\\n",
            "7060   2024-04-22 17:50:05 -5.210735  4.979939  6.643211  1.272782  2.563163   \n",
            "7061   2024-04-22 17:50:06 -5.186822  5.014559  6.606212  1.263539  2.491765   \n",
            "7062   2024-04-22 17:50:07 -5.158389  5.071068  6.591817  1.329614  2.697846   \n",
            "7063   2024-04-22 17:50:08 -5.171832  5.094385  6.607045  0.998573  2.296907   \n",
            "7064   2024-04-22 17:50:09 -5.114729  5.185633  6.615373  0.927960  2.004883   \n",
            "...                    ...       ...       ...       ...       ...       ...   \n",
            "12386  2024-04-25 18:05:55 -8.138025  5.301387  1.233326  1.920228  1.365615   \n",
            "12387  2024-04-25 18:05:56 -8.205479  5.098549  1.415107  1.847890  1.357856   \n",
            "12388  2024-04-25 18:05:57 -8.309456  5.061788  1.398690  1.698251  1.206412   \n",
            "12389  2024-04-25 18:05:58 -8.413671  4.883696  1.576188  1.539231  1.078288   \n",
            "12390  2024-04-25 18:05:59 -8.450431  4.569267  1.659345  1.277893  1.028002   \n",
            "\n",
            "       ...  PSD_ratio_1_y  PSD_ratio_3_y  PSD_ratio_5_y  PSD_ratio_10_y  \\\n",
            "7060   ...       0.116017       0.113619       0.109530        0.094457   \n",
            "7061   ...       0.108828       0.106844       0.103529        0.087641   \n",
            "7062   ...       0.122775       0.120724       0.117385        0.101850   \n",
            "7063   ...       0.090965       0.088296       0.086648        0.078320   \n",
            "7064   ...       0.068248       0.066216       0.064614        0.057830   \n",
            "...    ...            ...            ...            ...             ...   \n",
            "12386  ...       0.025437       0.003772       0.001123        0.000128   \n",
            "12387  ...       0.027651       0.004199       0.001257        0.000086   \n",
            "12388  ...       0.021574       0.004422       0.001230        0.000135   \n",
            "12389  ...       0.016849       0.003952       0.001083        0.000117   \n",
            "12390  ...       0.016559       0.004242       0.001549        0.000294   \n",
            "\n",
            "       PSD_ratio_1_z  PSD_ratio_3_z  PSD_ratio_5_z  PSD_ratio_10_z  \\\n",
            "7060        0.036371       0.034876       0.033541        0.028410   \n",
            "7061        0.034422       0.032781       0.031471        0.026145   \n",
            "7062        0.037947       0.036074       0.034428        0.028986   \n",
            "7063        0.024093       0.023032       0.021261        0.017786   \n",
            "7064        0.018215       0.017130       0.015573        0.012747   \n",
            "...              ...            ...            ...             ...   \n",
            "12386       0.209927       0.137141       0.079220        0.005460   \n",
            "12387       0.154020       0.102486       0.048427        0.003871   \n",
            "12388       0.143597       0.092997       0.046712        0.003402   \n",
            "12389       0.101524       0.067148       0.033493        0.001061   \n",
            "12390       0.068009       0.044985       0.019344        0.000636   \n",
            "\n",
            "       Heart_Rate  Breath_Rate  \n",
            "7060        164.0          NaN  \n",
            "7061        117.0          NaN  \n",
            "7062        134.0          NaN  \n",
            "7063        146.0          NaN  \n",
            "7064         74.0         17.0  \n",
            "...           ...          ...  \n",
            "12386       143.0         41.0  \n",
            "12387       110.0          NaN  \n",
            "12388       165.0          NaN  \n",
            "12389        89.0          NaN  \n",
            "12390       135.0          NaN  \n",
            "\n",
            "[2032 rows x 45 columns]\n"
          ]
        }
      ]
    },
    {
      "cell_type": "code",
      "source": [
        "# RESEARCH QUESTION: For each user, what are the min en max Window_start\n",
        "# date/times and the total time between this min and max?\n",
        "window_per_user = data.groupby('User').agg({\n",
        "    'Window_Start': 'min'\n",
        "    ,'Window_End': 'max'\n",
        "    })\n",
        "\n",
        "# Ensure the columns are in datetime format before substraction\n",
        "window_per_user['Window_Start'] = pd.to_datetime(window_per_user['Window_Start'])\n",
        "window_per_user['Window_End'] = pd.to_datetime(window_per_user['Window_End'])\n",
        "\n",
        "# Calculate the total time for each user:\n",
        "window_per_user['Total_time'] = window_per_user['Window_End'] - window_per_user['Window_Start']\n",
        "\n",
        "# Rename the columns\n",
        "window_per_user.rename(columns={\n",
        "    'Window_Start': 'Min_Window_Start'\n",
        "    ,'Window_End': 'Max_Window_End'\n",
        "}, inplace=True)\n",
        "\n",
        "# Display the windo info per user\n",
        "print(window_per_user)"
      ],
      "metadata": {
        "colab": {
          "base_uri": "https://localhost:8080/"
        },
        "id": "HUxZv90Vofi2",
        "outputId": "5d844c0a-0cff-46c1-8c68-675a88defb64"
      },
      "execution_count": 35,
      "outputs": [
        {
          "output_type": "stream",
          "name": "stdout",
          "text": [
            "        Min_Window_Start      Max_Window_End      Total_time\n",
            "User                                                        \n",
            "2    2024-04-18 10:07:20 2024-04-18 10:16:59 0 days 00:09:39\n",
            "3    2024-04-11 11:45:00 2024-04-16 13:09:59 5 days 01:24:59\n",
            "7    2024-04-11 09:09:25 2024-04-15 18:52:59 4 days 09:43:34\n",
            "10   2024-04-16 09:12:00 2024-04-16 09:24:59 0 days 00:12:59\n",
            "11   2024-04-22 17:50:00 2024-04-25 18:05:59 3 days 00:15:59\n",
            "12   2024-04-18 09:47:00 2024-04-18 09:51:57 0 days 00:04:57\n",
            "13   2024-04-10 12:47:00 2024-04-10 12:52:59 0 days 00:05:59\n",
            "15   2024-04-18 12:07:42 2024-04-19 10:03:59 0 days 21:56:17\n",
            "16   2024-04-20 09:45:00 2024-04-20 09:54:59 0 days 00:09:59\n",
            "20   2024-04-16 15:05:00 2024-04-16 15:11:58 0 days 00:06:58\n",
            "24   2024-04-15 11:15:00 2024-04-15 11:24:59 0 days 00:09:59\n",
            "28   2024-04-25 22:40:00 2024-04-27 23:17:59 2 days 00:37:59\n",
            "35   2024-04-25 11:15:00 2024-04-25 11:19:59 0 days 00:04:59\n"
          ]
        }
      ]
    }
  ]
}